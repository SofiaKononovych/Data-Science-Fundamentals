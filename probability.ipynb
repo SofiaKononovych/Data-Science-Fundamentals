{
 "cells": [
  {
   "cell_type": "markdown",
   "metadata": {
    "deletable": false,
    "editable": false,
    "nbgrader": {
     "cell_type": "markdown",
     "checksum": "cd384abf30efc98755d86db997a8e725",
     "grade": false,
     "grade_id": "cell-513963dffd022dec",
     "locked": true,
     "schema_version": 3,
     "solution": false
    }
   },
   "source": [
    "# Data Fundamentals (H)\n",
    "John H. Williamson / Sebastian Stein -- Session 2023/2024\n",
    "\n",
    "----\n",
    "\n",
    "**This submission must be your own work; you will have to make a Declaration of Originality on submission.**"
   ]
  },
  {
   "cell_type": "markdown",
   "metadata": {},
   "source": [
    "---"
   ]
  },
  {
   "cell_type": "markdown",
   "metadata": {
    "deletable": false,
    "editable": false,
    "nbgrader": {
     "cell_type": "markdown",
     "checksum": "4a965d3dc7a4ba5fd242e7624051aca9",
     "grade": false,
     "grade_id": "cell-648321103c548cc1",
     "locked": true,
     "schema_version": 3,
     "solution": false
    }
   },
   "source": [
    "## Markov \n",
    "\n",
    "## Purpose of this lab\n",
    "This lab should help you:\n",
    "* understand probability distributions\n",
    "* understand Markov chains\n",
    "* compute likelihoods\n",
    "* understand simple Bayesian inference\n",
    "* improve your understanding of candles\n",
    "\n",
    "## Hints\n",
    "\n",
    "There is a [hint sheet](markov_hints.ipynb) available for this lab."
   ]
  },
  {
   "cell_type": "markdown",
   "metadata": {
    "deletable": false,
    "editable": false,
    "nbgrader": {
     "cell_type": "markdown",
     "checksum": "029c510fbef4ae27c700988434e391fc",
     "grade": false,
     "grade_id": "cell-643252aefebdec11",
     "locked": true,
     "schema_version": 3,
     "solution": false
    }
   },
   "source": [
    "\n",
    "### Notes\n",
    "It is recommended to keep the lecture notes open while doing this lab exercise.\n",
    "\n",
    "You will need to know the following logarithm identities in this lab:\n",
    "* $\\log(a)+\\log(b) = \\log(ab)$ \n",
    "* $\\log(a)-\\log(b) = \\log(a/b),\\  b\\neq 0$\n",
    "\n",
    "$$\\newcommand{\\vec}[1]{ {\\bf #1}} \n",
    "\\newcommand{\\real}{\\mathbb{R}}\n",
    "\\DeclareMathOperator*{\\argmin}{arg\\,min}\n",
    "\\vec{x}\\real\n",
    "$$"
   ]
  },
  {
   "cell_type": "code",
   "execution_count": 61,
   "metadata": {
    "deletable": false,
    "editable": false,
    "nbgrader": {
     "cell_type": "code",
     "checksum": "86669cae8df805e7028d40115de3ab10",
     "grade": false,
     "grade_id": "cell-15b8846b731db842",
     "locked": true,
     "schema_version": 3,
     "solution": false
    }
   },
   "outputs": [
    {
     "name": "stdout",
     "output_type": "stream",
     "text": [
      "Everything imported OK\n"
     ]
    }
   ],
   "source": [
    "# Standard imports\n",
    "# Make sure you run this cell!\n",
    "from __future__ import print_function, division\n",
    "import numpy as np  # NumPy\n",
    "import scipy.stats \n",
    "\n",
    "from jhwutils.checkarr import array_hash, check_hash\n",
    "import jhwutils.tick as tick\n",
    "import jhwutils.image_audio as ia\n",
    "\n",
    "# Set up Matplotlib\n",
    "import matplotlib as mpl   \n",
    "import matplotlib.pyplot as plt\n",
    "%matplotlib inline\n",
    "print(\"Everything imported OK\")\n",
    "plt.rc('figure', figsize=(8.0, 4.0), dpi=140)\n",
    "rng = np.random.default_rng(seed=1000)"
   ]
  },
  {
   "cell_type": "markdown",
   "metadata": {},
   "source": [
    "# Assessed portion: Markov processes\n",
    "A **stochastic process** or a **random process** is a process that evolves over *time* in an (partially) unpredictable way. The altitude of an aircraft might be modelled as a stochastic process. Although the altitude is controlled to keep it relatively steady during level flight, fluctuations due to turbulence shift the altitude randomly. This randomness can vary; in smooth air the process might be very stable and predictable, but become increasingly random in rough, turbulent air. The position of the aircraft in one moment depends on where it was a moment before, but with some element of randomness.\n",
    "\n",
    "Unlike the coin tosses, where each toss was *independent* of the one before, **stochastic processes** capture dependence over time.\n",
    "\n",
    "\n",
    "<img src=\"imgs/turbulence.png\">\n",
    "\n",
    "*[Original Image by Sergey Kustov [from Wikimedia Commons](https://commons.wikimedia.org/wiki/Category:Featured_pictures_of_aircraft#/media/File:Aeroflot_Airbus_A330_Kustov.jpg) CC-BY-SA 3.0]*\n",
    "\n",
    "## Markov process\n",
    "A **Markov process** is a particularly simple kind of **stochastic process**. A **Markov process** is any stochastic process that preserves the **Markov property**:\n",
    "\n",
    "### Markov property\n",
    "\n",
    ">The distribution of the state at time $t$ depends **only** on the state at the previous time $t-1$. No other history influences the behaviour of the system. \n",
    "\n",
    "Sequential samples from a Markov process are **not** independent; each sample depends on the prior sample (and *only* on the prior sample).  These models are tractable to do computations with, and we can often approximate a stochastic process which might have long-term dependencies with a Markov process with a single step dependency.\n",
    "\n",
    "### Evolution over time\n",
    "\n",
    "We consider the process to evolve one time step after the other, so we have a state at time $t=0, t=1, \\dots$, represented by a random variable $X_t$, which takes on values $x_1, x_2, x_3, \\dots$ at each time step.\n",
    "\n",
    "The evolution of Markov process is described by a single conditional probability distribution, $P(\\vec{X}_t=x_t|x_{t-1})$, the **transition distribution**. It defines what values could occur in one time step, depending on those on the previous time step. Markov processes can have **discrete states** (i.e. their state transitions involve discrete random variables) or **continuous states** (continuous random variables). "
   ]
  },
  {
   "cell_type": "markdown",
   "metadata": {},
   "source": [
    "## Discrete time, discrete state: Markov chains"
   ]
  },
  {
   "cell_type": "markdown",
   "metadata": {},
   "source": [
    " \n",
    "### Gilbert model for flickering lights\n",
    "Consider the problem of modeling the gentle flickering of an LED candle:"
   ]
  },
  {
   "cell_type": "markdown",
   "metadata": {},
   "source": [
    "<img src=\"imgs/candle.jpg\"> <br><br>*[[Image](https://flickr.com/photos/syntheticaperture/2667040501 \"0806B06 - LED Candle Experiment\") by [syntheticaperture](https://flickr.com/people/syntheticaperture) shared [CC BY](https://creativecommons.org/licenses/by/2.0/)]*"
   ]
  },
  {
   "cell_type": "markdown",
   "metadata": {},
   "source": [
    "*[This problem is inspired by the [analysis on cpldcpu's blog](https://cpldcpu.com/2013/12/08/hacking-a-candleflicker-led/), even if the modelling is rather different here]*\n",
    "\n",
    "The candle light has a simple microcontroller, which updates the LED state every hundredth of a second (100Hz). Choosing a purely random light state for each frame is unsatisfying -- no matter how you choose the random distribution, the result is always \"too fast\". Because each frame is independent, there is no sense of continuity. The result is unusable.\n",
    "\n",
    "The solution is to model this as a **stochastic process**; and a powerful way of simplifying that model so it can be made amenable to computational analysis that is to represent the process as a Markov process. This problem is a *discrete* Markov process, because there are two light states: *on* and *off* (we'll assume the light can't be partially on). Discrete Markov processes are known as **Markov chains**.\n",
    "\n",
    "We can do several things with any Markov chain:\n",
    "* we can **sample** processes from the chain (e.g. we can simulate the candle behaviour)\n",
    "* we can **estimate** or **infer** parameters from data (we can work out how the Markov chain was configured by observing)\n",
    "* we can compute the **likelihood** of observations under an assumed model (e.g. we can see whether a LED candle we observe is likely to be of brand X or brand Y)\n",
    "\n",
    "### Gilbert model\n",
    "\n",
    "A very simple Markov chain is the **Gilbert model**, which can be used to model \"sticky\" processes.  It is often used for simulating \"bursty\" network traffic, for example. This model has just two states $0$ and $1$ or $A$ and $B$, and the condition probability distribution gives the probability of transitions between these two states.\n",
    "\n",
    "<img src=\"imgs/gilbert.png\">\n",
    "\n",
    "The conditional probability can be written as a simple table:\n",
    "\n",
    "|   | 0    | 1    |\n",
    "|---|------|------|\n",
    "| 0 | 1-p1 | p1   |\n",
    "| 1 | p2   | 1-p2 |\n",
    "\n",
    "Because the total probability leaving from any given state must be 1.0, we only need two numbers $p_1$ and $p_2$ to fully determine the Markov chain for the Gilbert model.\n",
    "\n",
    "The model can be seen as a process with a **transition distribution** $p(S_i|S_{i-1})$, where $S_i$ is the random variable representing the state at time $i$ (for a Gilbert model, the state is either 0 or 1). The state at time $i$ depends only on the state at the previous time step.\n",
    "\n",
    "Writing out every possible combination in full:\n",
    "$$\\begin{align*}P(S_i=0|S_{i-1}=0) &= 1-p_1\\\\\n",
    "P(S_i=0|S_{i-1}=1) &= p_2\\\\\n",
    "P(S_i=1|S_{i-1}=0) &= p_1\\\\\n",
    "P(S_i=1|S_{i-1}=1) &= 1-p_2\\\\\\end{align*}$$\n",
    "\n",
    "Once we observe a previous state, we know the distribution over the following state.\n",
    "\n",
    "## Simulation\n",
    "Let's simulate the Gilbert model first of all. Write a function `gilbert(state, p1, p2, rng)` which will take a previous state (either 0 or 1), two transition probabilities $p_1$ and $p_2$, and a random generator, and return the next state of the Markov chain.\n",
    "\n",
    "You can see this is a biased coin toss, where the bias depends on the the result of the last coin toss.\n"
   ]
  },
  {
   "cell_type": "code",
   "execution_count": 62,
   "metadata": {
    "deletable": false,
    "nbgrader": {
     "cell_type": "code",
     "checksum": "9b7c2ce773c900bbb96c4d780995ec7c",
     "grade": false,
     "grade_id": "cell-8d9832adeefd1eaa",
     "locked": false,
     "schema_version": 3,
     "solution": true
    }
   },
   "outputs": [],
   "source": [
    "\n",
    "def gilbert(state, p1,p2, rng):\n",
    "    gilbert_matrix = np.array([[1-p1, p1], [p2, 1-p2]])\n",
    "    gilbert_probs = gilbert_matrix[state]\n",
    "    state = rng.choice([0, 1], p=gilbert_probs)\n",
    "    return state"
   ]
  },
  {
   "cell_type": "code",
   "execution_count": 63,
   "metadata": {},
   "outputs": [],
   "source": [
    "# run the simulation for a number steps\n",
    "def gilbert_simulate(p1, p2, iters, rng):\n",
    "    state = 0    \n",
    "    states = []\n",
    "    for i in range(iters):\n",
    "        state = gilbert(state, p1, p2, rng)\n",
    "        states.append(state)\n",
    "    return states"
   ]
  },
  {
   "cell_type": "code",
   "execution_count": 64,
   "metadata": {
    "deletable": false,
    "editable": false,
    "nbgrader": {
     "cell_type": "code",
     "checksum": "e71028872fb842291cfc7b6385faf134",
     "grade": true,
     "grade_id": "cell-745956e5d05429e0",
     "locked": true,
     "points": 6,
     "schema_version": 3,
     "solution": false
    }
   },
   "outputs": [
    {
     "data": {
      "text/html": [
       "\n",
       "        <div class=\"alert alert-box alert-success\">\n",
       "        <h1> <!--{id:\"CORRECTMARK\", marks:\"5\"}--> \n",
       "         ✓ [5 marks] \n",
       "         </h1> </div>"
      ],
      "text/plain": [
       "<IPython.core.display.HTML object>"
      ]
     },
     "metadata": {},
     "output_type": "display_data"
    }
   ],
   "source": [
    "rng = np.random.default_rng(2018)\n",
    "\n",
    "with tick.marks(5):\n",
    "    test_states = gilbert_simulate(0.5, 0.05, 10000, rng)\n",
    "    assert(np.abs(np.mean(test_states)-0.9123)<0.01)\n",
    "    assert(np.abs(np.std(test_states)-0.2828)<0.01)"
   ]
  },
  {
   "cell_type": "code",
   "execution_count": 70,
   "metadata": {},
   "outputs": [],
   "source": [
    "def candle_gif(states):\n",
    "    # \"visual simulator\"\n",
    "    gif = np.zeros((len(states),32,32,3))\n",
    "    x = 0\n",
    "    for i,s in enumerate(states):\n",
    "        gif[i, :, :, :] = s*0.25\n",
    "        gif[i, 8:24,8:24, :] = s        \n",
    "    ia.show_gif(gif, width=\"64px\", duration=0.5)\n",
    "    \n",
    "# plot the result\n",
    "def plot_gilbert(states, p1, p2):\n",
    "    fig = plt.figure()\n",
    "    ax = fig.add_subplot(1,1,1)\n",
    "    ax.step(np.arange(len(states)), states)\n",
    "    ax.set_title(\"Gilbert model, p1=%.4f, p2=%.4f\" % (p1,p2))\n",
    "    ax.set_xlabel(\"Steps\")\n",
    "    ax.set_ylabel(\"State\")\n",
    "    ax.set_frame_on(False)    \n",
    "    ax.set_yticks([0,1])"
   ]
  },
  {
   "cell_type": "code",
   "execution_count": 71,
   "metadata": {},
   "outputs": [
    {
     "data": {
      "image/png": "[encoded data removed]",
      "text/plain": [
       "<Figure size 1120x560 with 1 Axes>"
      ]
     },
     "metadata": {},
     "output_type": "display_data"
    }
   ],
   "source": [
    "# simulate and plot    \n",
    "p1, p2 = 0.3, 0.03\n",
    "rng = np.random.default_rng(2018)\n",
    "states = gilbert_simulate(p1,p2, iters=500, rng=rng)\n",
    "plot_gilbert(states, p1, p2)"
   ]
  },
  {
   "cell_type": "code",
   "execution_count": 72,
   "metadata": {},
   "outputs": [
    {
     "data": {
      "image/png": "[encoded data removed]",
      "text/plain": [
       "<IPython.core.display.Image object>"
      ]
     },
     "metadata": {
      "image/png": {
       "width": "64px"
      }
     },
     "output_type": "display_data"
    }
   ],
   "source": [
    "# show a low-fi simulation of this candle\n",
    "candle_gif(states)"
   ]
  },
  {
   "cell_type": "markdown",
   "metadata": {},
   "source": [
    "Your result will be random, but should look something like this (long periods of 1, with a few intermittent bursts of 0).\n",
    "\n",
    "<img src=\"imgs/gilbert_simulate.png\">\n"
   ]
  },
  {
   "cell_type": "markdown",
   "metadata": {},
   "source": [
    "### Estimation\n",
    "We  already saw how to estimate the distribution of a discrete random variable from observed data. \n",
    "\n",
    "\n",
    "In this case, where we have a dependency on the previous time step, we just need to compute the empirical distribution of the probability of sequential pairs of states, $P(S_i=s_i, S_{i+1}=s_{i+1})$, as in the letter bigrams in the Unit 8 lecture. From this, we can compute the conditional probabilities directly:\n",
    "\n",
    "$$P(s_i | s_{i-1}) = \\frac{P(s_i, s_{i-1})}{P(s_{i-1})} = \\frac{P(s_i, s_{i-1})}{\\sum_{s} P(s, s_{i-1})}$$\n",
    "\n",
    "We can apply this to the sequence we generated, and test that we can recover the parameters that generated the observations.\n",
    "\n",
    "Write a function to estimate `p1` and `p2` given a set of observed states. You should be able to verify that the results you get back are close to the original simulation parameters for any simulation you run.\n",
    "\n",
    "You may find it helpful to print out intermediate joint or conditional matrices to help debug this code.\n"
   ]
  },
  {
   "cell_type": "code",
   "execution_count": 73,
   "metadata": {
    "deletable": false,
    "nbgrader": {
     "cell_type": "code",
     "checksum": "46da4418be4a3584a33cc9055d378787",
     "grade": false,
     "grade_id": "cell-2ff6a91a7c7be033",
     "locked": false,
     "schema_version": 3,
     "solution": true
    }
   },
   "outputs": [],
   "source": [
    "def estimate_gilbert_probabilities(states):\n",
    "    \"\"\"\n",
    "        Parameters:\n",
    "            states: list of states [0 or 1]\n",
    "        Returns:\n",
    "            p1, p2: estimated probabilities of the Gilbert model that generated this sequence\n",
    "    \"\"\"\n",
    "    initial_arr = np.zeros((2, 2))\n",
    "\n",
    "    for i in range(1, len(states)):\n",
    "        initial_arr[states[i], states[i - 1]] += 1\n",
    "        \n",
    "        \n",
    "    formula_lower = initial_arr.sum(axis=0, keepdims=True)\n",
    "    cond_probs = initial_arr / formula_lower\n",
    "\n",
    "    p1 = cond_probs[1, 0]\n",
    "    p2 = cond_probs[0, 1]\n",
    "\n",
    "    return p1, p2"
   ]
  },
  {
   "cell_type": "code",
   "execution_count": 74,
   "metadata": {
    "deletable": false,
    "editable": false,
    "nbgrader": {
     "cell_type": "code",
     "checksum": "8ec9a9fc873f75baf1f03addc5018f53",
     "grade": true,
     "grade_id": "cell-3bec2cdf2ad6a063",
     "locked": true,
     "points": 8,
     "schema_version": 3,
     "solution": false
    }
   },
   "outputs": [
    {
     "name": "stdout",
     "output_type": "stream",
     "text": [
      "\n",
      "    Estimated transition table\n",
      "    ------------------------------\n",
      "          0       1\n",
      "    0   0.81   0.19\n",
      "    1   0.02   0.98\n",
      "\n",
      "\n",
      "    Estimated transition table\n",
      "    ------------------------------\n",
      "          0       1\n",
      "    0   0.50   0.50\n",
      "    1   0.50   0.50\n",
      "\n",
      "\n",
      "    Estimated transition table\n",
      "    ------------------------------\n",
      "          0       1\n",
      "    0   0.10   0.90\n",
      "    1   0.09   0.91\n",
      "\n",
      "\n",
      "    Estimated transition table\n",
      "    ------------------------------\n",
      "          0       1\n",
      "    0   0.95   0.05\n",
      "    1   0.05   0.95\n",
      "\n",
      "\n",
      "    Estimated transition table\n",
      "    ------------------------------\n",
      "          0       1\n",
      "    0   0.30   0.70\n",
      "    1   0.10   0.90\n",
      "\n"
     ]
    },
    {
     "data": {
      "text/html": [
       "\n",
       "        <div class=\"alert alert-box alert-success\">\n",
       "        <h1> <!--{id:\"CORRECTMARK\", marks:\"8\"}--> \n",
       "         ✓ [8 marks] \n",
       "         </h1> </div>"
      ],
      "text/plain": [
       "<IPython.core.display.HTML object>"
      ]
     },
     "metadata": {},
     "output_type": "display_data"
    }
   ],
   "source": [
    "rng = np.random.default_rng(2018)\n",
    "def report_results(p1, p2):\n",
    "    print(\"\"\"\n",
    "    Estimated transition table\n",
    "    ------------------------------\n",
    "          0       1\n",
    "    0   {p11:.2f}   {p1:.2f}\n",
    "    1   {p2:.2f}   {p21:.2f}\n",
    "\"\"\".format(p1=p1, p2=p2, p21=1-p2, p11=1-p1))\n",
    "    \n",
    "with tick.marks(8):\n",
    "    for p1, p2 in [[0.2, 0.02], [0.5, 0.5], [0.9, 0.09],\n",
    "                  [0.05, 0.05], [0.7, 0.1]]:    \n",
    "        test_states = gilbert_simulate(p1, p2, iters=50000, rng=rng)    \n",
    "        assert(len(test_states)==50000)            \n",
    "        est_p1, est_p2 = estimate_gilbert_probabilities(test_states)            \n",
    "        report_results(est_p1, est_p2)\n",
    "        assert(np.abs(p1-est_p1)<0.02 and np.abs(p2-est_p2)<0.05)"
   ]
  },
  {
   "cell_type": "markdown",
   "metadata": {},
   "source": [
    "We can verify that simulating with the probabilities observed from a simulation results in a quantitatively similar visual effect."
   ]
  },
  {
   "cell_type": "code",
   "execution_count": 75,
   "metadata": {},
   "outputs": [
    {
     "data": {
      "text/plain": [
       "Text(0.5, 1.0, 'Re-simulation from estimated parameters 0.347, 0.036')"
      ]
     },
     "execution_count": 75,
     "metadata": {},
     "output_type": "execute_result"
    },
    {
     "data": {
      "image/png": "[encoded data removed]",
      "text/plain": [
       "<Figure size 1120x560 with 1 Axes>"
      ]
     },
     "metadata": {},
     "output_type": "display_data"
    },
    {
     "data": {
      "image/png": "[encoded data removed]",
      "text/plain": [
       "<Figure size 1120x560 with 1 Axes>"
      ]
     },
     "metadata": {},
     "output_type": "display_data"
    }
   ],
   "source": [
    "# simulate\n",
    "p1, p2 = 0.3, 0.03\n",
    "rng = np.random.default_rng(2018)\n",
    "states = gilbert_simulate(p1, p2, iters=500, rng=rng)\n",
    "plot_gilbert(states, p1, p2)\n",
    "\n",
    "plt.gca().set_title(\"Simulation from known parameters %.2f, %.2f\" % (p1, p2))\n",
    "\n",
    "est_p1, est_p2 = estimate_gilbert_probabilities(states)\n",
    "\n",
    "est_states = gilbert_simulate(est_p1, est_p2, iters=500, rng=rng)\n",
    "plot_gilbert(est_states, est_p1, est_p2)\n",
    "plt.gca().set_title(\"Re-simulation from estimated parameters %.3f, %.3f\" % (est_p1, est_p2))"
   ]
  },
  {
   "cell_type": "code",
   "execution_count": 76,
   "metadata": {},
   "outputs": [
    {
     "data": {
      "image/png": "[encoded data removed]",
      "text/plain": [
       "<IPython.core.display.Image object>"
      ]
     },
     "metadata": {
      "image/png": {
       "width": "64px"
      }
     },
     "output_type": "display_data"
    },
    {
     "data": {
      "image/png": "[encoded data removed]",
      "text/plain": [
       "<IPython.core.display.Image object>"
      ]
     },
     "metadata": {
      "image/png": {
       "width": "64px"
      }
     },
     "output_type": "display_data"
    }
   ],
   "source": [
    "# check the candles look similar enough in simulation\n",
    "candle_gif(states)\n",
    "candle_gif(est_states)"
   ]
  },
  {
   "cell_type": "markdown",
   "metadata": {},
   "source": [
    "### Likelihood\n",
    "This **looks** qualitatively similar. We can precisely state that quantification using probability.\n",
    "\n",
    "#### A bit of espionage\n",
    "Imagine we want to conduct some industrial espionage (\"market research\") and work out which shops are being supplied with which brand of LED candle. There are candle modules from two companies, *RelaxiLight Inc.*, and *FlickerVision*. We have observations from lab studies of two examples of these candles.\n",
    "\n",
    "We see a candle on the shelf in a hardware store. We take the candle home and measure the light emitted from it. Is it a *RelaxiLight* or a *FlickerVision*?"
   ]
  },
  {
   "cell_type": "markdown",
   "metadata": {},
   "source": [
    "## Step 1. Load the data, estimate the parameters\n",
    "* The data for observations from a known *RelaxiLight Inc.* candle  is in `data/relaxlight.txt`\n",
    "* The data for observations from a known *FlickerVision* candle is in `data/flickervision.txt`\n",
    "* The data for five unknown candles (the ones bought in the shops) is in `data/candle_<n>.txt`, for $n=1,2,3,4,5$\n",
    "\n",
    "All of this data is just a single, long array of 0s and 1s (0 if the candle was off, 1 if it were on).\n",
    "\n",
    "These are all standard RelaxiLight or FlickerVision candles; except for one, which is a slightly *defective* RelaxiLight or FlickerVision candle.\n",
    "\n",
    "* Load known data into arrays `relaxilight` and `flickervision`. \n",
    "* Load the other five datasets into a 5xN matrix `unknown_candles` (all of the datasets are the same length)\n",
    "\n",
    "These can be loaded directly with `np.loadtxt()`. Note that you **must** convert the array type to `int32` on loading for `estimate_gilbert_probabilities` to work"
   ]
  },
  {
   "cell_type": "code",
   "execution_count": 77,
   "metadata": {
    "deletable": false,
    "nbgrader": {
     "cell_type": "code",
     "checksum": "8f3087abba8c1f943b9b65e6b1a99460",
     "grade": false,
     "grade_id": "cell-f775cd2c27d04603",
     "locked": false,
     "schema_version": 3,
     "solution": true
    }
   },
   "outputs": [
    {
     "name": "stderr",
     "output_type": "stream",
     "text": [
      "C:\\Users\\Софія\\AppData\\Local\\Temp\\ipykernel_13432\\2712782316.py:2: DeprecationWarning: loadtxt(): Parsing an integer via a float is deprecated.  To avoid this warning, you can:\n",
      "    * make sure the original data is stored as integers.\n",
      "    * use the `converters=` keyword argument.  If you only use\n",
      "      NumPy 1.23 or later, `converters=float` will normally work.\n",
      "    * Use `np.loadtxt(...).astype(np.int64)` parsing the file as\n",
      "      floating point and then convert it.  (On all NumPy versions.)\n",
      "  (Deprecated NumPy 1.23)\n",
      "  relaxilight = np.loadtxt('data/relaxilight.txt', dtype=np.int32)\n",
      "C:\\Users\\Софія\\AppData\\Local\\Temp\\ipykernel_13432\\2712782316.py:3: DeprecationWarning: loadtxt(): Parsing an integer via a float is deprecated.  To avoid this warning, you can:\n",
      "    * make sure the original data is stored as integers.\n",
      "    * use the `converters=` keyword argument.  If you only use\n",
      "      NumPy 1.23 or later, `converters=float` will normally work.\n",
      "    * Use `np.loadtxt(...).astype(np.int64)` parsing the file as\n",
      "      floating point and then convert it.  (On all NumPy versions.)\n",
      "  (Deprecated NumPy 1.23)\n",
      "  flickervision = np.loadtxt('data/flickervision.txt', dtype=np.int32)\n",
      "C:\\Users\\Софія\\AppData\\Local\\Temp\\ipykernel_13432\\2712782316.py:7: DeprecationWarning: loadtxt(): Parsing an integer via a float is deprecated.  To avoid this warning, you can:\n",
      "    * make sure the original data is stored as integers.\n",
      "    * use the `converters=` keyword argument.  If you only use\n",
      "      NumPy 1.23 or later, `converters=float` will normally work.\n",
      "    * Use `np.loadtxt(...).astype(np.int64)` parsing the file as\n",
      "      floating point and then convert it.  (On all NumPy versions.)\n",
      "  (Deprecated NumPy 1.23)\n",
      "  unknown_candles[i-1] = np.loadtxt(filename, dtype=np.int32)\n"
     ]
    }
   ],
   "source": [
    "# YOUR CODE HERE\n",
    "relaxilight = np.loadtxt('data/relaxilight.txt', dtype=np.int32)\n",
    "flickervision = np.loadtxt('data/flickervision.txt', dtype=np.int32)\n",
    "unknown_candles = np.zeros((5, 500), dtype=np.int32)\n",
    "for i in range(1, 6):\n",
    "    filename = f'data/candle_{i}.txt'\n",
    "    unknown_candles[i-1] = np.loadtxt(filename, dtype=np.int32)"
   ]
  },
  {
   "cell_type": "code",
   "execution_count": 78,
   "metadata": {
    "deletable": false,
    "editable": false,
    "nbgrader": {
     "cell_type": "code",
     "checksum": "c717e68c77b665092a96e6ecddb5a62b",
     "grade": true,
     "grade_id": "cell-beb15ba0a734686c",
     "locked": true,
     "points": 5,
     "schema_version": 3,
     "solution": false
    }
   },
   "outputs": [
    {
     "name": "stdout",
     "output_type": "stream",
     "text": [
      "((5000,), 9858416.20250862)\n",
      "((5000,), 5990789.984156581)\n",
      "((5, 500), 2122668.150594955)\n"
     ]
    },
    {
     "data": {
      "text/html": [
       "\n",
       "        <div class=\"alert alert-box alert-success\">\n",
       "        <h1> <!--{id:\"CORRECTMARK\", marks:\"5\"}--> \n",
       "         ✓ [5 marks] \n",
       "         </h1> </div>"
      ],
      "text/plain": [
       "<IPython.core.display.HTML object>"
      ]
     },
     "metadata": {},
     "output_type": "display_data"
    }
   ],
   "source": [
    "print(array_hash(relaxilight))\n",
    "print(array_hash(flickervision))\n",
    "print(array_hash(unknown_candles))\n",
    "with tick.marks(5):\n",
    "    assert(check_hash(relaxilight, ((5000,), 9858416.2025086209)))\n",
    "    assert(check_hash(flickervision, ((5000,), 5990789.9841565806)))\n",
    "    assert(check_hash(unknown_candles, ((5, 500), 2122668.1505949548)))\n",
    "    assert(relaxilight.dtype==np.int32)\n",
    "    assert(flickervision.dtype==np.int32)\n",
    "    assert(unknown_candles.dtype==np.int32)\n"
   ]
  },
  {
   "cell_type": "markdown",
   "metadata": {},
   "source": [
    "* Estimate the parameters for the **known** RelaxiLight Inc. and FlickerVision candles, using the function you defined above.\n",
    "* Store the parameters in `relaxi_p1`, `relaxi_p2` and `flicker_p1` and `flicker_p2`"
   ]
  },
  {
   "cell_type": "code",
   "execution_count": 79,
   "metadata": {
    "deletable": false,
    "nbgrader": {
     "cell_type": "code",
     "checksum": "dc0c06ab64e85e38adf812e76d937963",
     "grade": false,
     "grade_id": "cell-cba33f0cea12f409",
     "locked": false,
     "schema_version": 3,
     "solution": true
    }
   },
   "outputs": [],
   "source": [
    "# YOUR CODE HERE\n",
    "relaxi_p1, relaxi_p2 = estimate_gilbert_probabilities(relaxilight)\n",
    "flicker_p1, flicker_p2 = estimate_gilbert_probabilities(flickervision)"
   ]
  },
  {
   "cell_type": "code",
   "execution_count": 80,
   "metadata": {
    "deletable": false,
    "editable": false,
    "nbgrader": {
     "cell_type": "code",
     "checksum": "2696dc3868f205a1d6bbf0e02763080a",
     "grade": true,
     "grade_id": "cell-0d52c8286c31f324",
     "locked": true,
     "points": 5,
     "schema_version": 3,
     "solution": false
    }
   },
   "outputs": [
    {
     "name": "stdout",
     "output_type": "stream",
     "text": [
      "[0.09533898 0.02219482 0.23864959 0.25392238]\n"
     ]
    },
    {
     "data": {
      "text/html": [
       "\n",
       "        <div class=\"alert alert-box alert-success\">\n",
       "        <h1> <!--{id:\"CORRECTMARK\", marks:\"4\"}--> \n",
       "         ✓ [4 marks] \n",
       "         </h1> </div>"
      ],
      "text/plain": [
       "<IPython.core.display.HTML object>"
      ]
     },
     "metadata": {},
     "output_type": "display_data"
    }
   ],
   "source": [
    "ps = np.array([relaxi_p1, relaxi_p2, flicker_p1, flicker_p2])\n",
    "print(ps)\n",
    "with tick.marks(4):\n",
    "    assert(np.sum(np.abs(ps - [ 0.09533898,  0.02219482,  0.23864959,  0.25392238]))<0.1)"
   ]
  },
  {
   "cell_type": "markdown",
   "metadata": {},
   "source": [
    "### Step 2. Log-likelihood\n",
    "Write a function that will compute the **log-likelihood** of a sequence given `p1` and `p2`. The easy way to approach this is to create a 2x2 conditional probability table for every possible pair of states, like the one in the first Gilbert example, and index into it as you iterate over the sequence of states.\n",
    "\n",
    "Note that log-likelihoods will always be negative or zero.\n",
    "    "
   ]
  },
  {
   "cell_type": "code",
   "execution_count": 81,
   "metadata": {
    "deletable": false,
    "nbgrader": {
     "cell_type": "code",
     "checksum": "6d3fa9b94bb57cb1976b21d2cdc2a006",
     "grade": false,
     "grade_id": "cell-64c66820cd35142b",
     "locked": false,
     "schema_version": 3,
     "solution": true
    }
   },
   "outputs": [
    {
     "name": "stdout",
     "output_type": "stream",
     "text": [
      "-2.0794415416798357\n",
      "-1.1394342831883648\n",
      "-0.6694306539426291\n"
     ]
    }
   ],
   "source": [
    "def log_likelihood(seq, p1, p2):\n",
    "    gilbert_matrix = np.array([[1-p1, p1], [p2, 1-p2]])\n",
    "    log_likelihood_value = 0.0\n",
    "    \n",
    "    for i in range(1, len(seq)):\n",
    "        cond_prob = gilbert_matrix[seq[i-1], seq[i]]\n",
    "        log_likelihood_value += np.log(cond_prob)\n",
    "            \n",
    "        \n",
    "        \n",
    "    return log_likelihood_value\n",
    "\n",
    "\n",
    "print(log_likelihood([0,1,0,1], 0.5, 0.5))\n",
    "print(log_likelihood([0,1,1,1], 0.5, 0.2))\n",
    "print(log_likelihood([1,1,1,1], 0.5, 0.2))\n",
    "        "
   ]
  },
  {
   "cell_type": "code",
   "execution_count": 82,
   "metadata": {
    "deletable": false,
    "editable": false,
    "nbgrader": {
     "cell_type": "code",
     "checksum": "ac495729e4677fd6f241f78dc3d5158a",
     "grade": true,
     "grade_id": "cell-19ae760a5031a10e",
     "locked": true,
     "points": 6,
     "schema_version": 3,
     "solution": false
    }
   },
   "outputs": [
    {
     "data": {
      "text/html": [
       "\n",
       "        <div class=\"alert alert-box alert-success\">\n",
       "        <h1> <!--{id:\"CORRECTMARK\", marks:\"6\"}--> \n",
       "         ✓ [6 marks] \n",
       "         </h1> </div>"
      ],
      "text/plain": [
       "<IPython.core.display.HTML object>"
      ]
     },
     "metadata": {},
     "output_type": "display_data"
    }
   ],
   "source": [
    "\n",
    "with tick.marks(6):\n",
    "    assert(np.abs(log_likelihood([0,1,0,1], 0.5, 0.5) - -2.07944154168)<0.1)\n",
    "    assert(np.abs(log_likelihood([0,1,1,1], 0.5, 0.2) - -1.13943428319)<0.1)\n",
    "    assert(np.abs(log_likelihood([1,1,1,1], 0.5, 0.2) - -0.669430653943)<0.1)\n"
   ]
  },
  {
   "cell_type": "markdown",
   "metadata": {},
   "source": [
    "### Step 3. Ratio test\n",
    "25% of all candles on the market are RelaxiLight, and 75% of all candles are FlickerVision (flickery candles are cheap to produce!).\n",
    "\n",
    "* Compute  the log probability ratio $$\\log \\left[ \\frac{P(A_1|B)}{P(A_2|B)} \\right]$$ that each of the five candles is to be a FlickerVision ($A_1$)over a RelaxiLight ($A_2$), storing the result in an array `candle_log_probs`. The log probability ratio includes both the likelihood and the prior.\n",
    "\n",
    "* Create an array `is_flickervision` that has one entry for each unknown candle, 0 if the candle is most likely to be RelaxiLight, and 1 if the candle is most likely to be FlickerVision.\n",
    "\n"
   ]
  },
  {
   "cell_type": "code",
   "execution_count": 83,
   "metadata": {
    "deletable": false,
    "nbgrader": {
     "cell_type": "code",
     "checksum": "57bc62601f6d8078c09840519589dcf6",
     "grade": false,
     "grade_id": "cell-b16674b0e28babd7",
     "locked": false,
     "schema_version": 3,
     "solution": true
    }
   },
   "outputs": [],
   "source": [
    "# YOUR CODE HERE\n",
    "relaxilight_prob = 0.25\n",
    "flickerversion_prob = 0.75\n",
    "\n",
    "candle_log_probs = np.zeros(5)\n",
    "for i in range(5):\n",
    "\n",
    "    log_likelihood_r = log_likelihood(unknown_candles[i], relaxi_p1, relaxi_p2)\n",
    "    log_likelihood_f = log_likelihood(unknown_candles[i], flicker_p1, flicker_p2)\n",
    "    \n",
    "    log_prob_ratio = (log_likelihood_f + np.log(flickerversion_prior)) - (log_likelihood_r + np.log(relaxilight_prior))\n",
    "\n",
    "    candle_log_probs[i] = log_prob_ratio\n",
    "    \n",
    "    \n"
   ]
  },
  {
   "cell_type": "code",
   "execution_count": 84,
   "metadata": {
    "deletable": false,
    "nbgrader": {
     "cell_type": "code",
     "checksum": "499da16b3dfa07f6b3ce72ee413b9652",
     "grade": false,
     "grade_id": "cell-d6458d1da8342b4f",
     "locked": false,
     "schema_version": 3,
     "solution": true
    }
   },
   "outputs": [],
   "source": [
    "# YOUR CODE HERE\n",
    "is_flickervision = candle_log_probs > 0"
   ]
  },
  {
   "cell_type": "code",
   "execution_count": 85,
   "metadata": {
    "deletable": false,
    "editable": false,
    "nbgrader": {
     "cell_type": "code",
     "checksum": "983c4aaf45505b26c31f9bd01bddfb8e",
     "grade": true,
     "grade_id": "cell-ef4fd4578b0d0a9d",
     "locked": true,
     "points": 5,
     "schema_version": 3,
     "solution": false
    }
   },
   "outputs": [
    {
     "name": "stdout",
     "output_type": "stream",
     "text": [
      "[-91.71633843 119.87678557 -74.07528499 -97.79321901 140.20061013]\n"
     ]
    },
    {
     "data": {
      "text/html": [
       "\n",
       "        <div class=\"alert alert-box alert-success\">\n",
       "        <h1> <!--{id:\"CORRECTMARK\", marks:\"5\"}--> \n",
       "         ✓ [5 marks] \n",
       "         </h1> </div>"
      ],
      "text/plain": [
       "<IPython.core.display.HTML object>"
      ]
     },
     "metadata": {},
     "output_type": "display_data"
    }
   ],
   "source": [
    "print(candle_log_probs)\n",
    "with tick.marks(5):\n",
    "    assert(np.sum(np.abs(candle_log_probs-[-91,119,-74,-97,140]))<5.0)"
   ]
  },
  {
   "cell_type": "code",
   "execution_count": 86,
   "metadata": {
    "deletable": false,
    "editable": false,
    "nbgrader": {
     "cell_type": "code",
     "checksum": "7d3250b7f3bea1f59c365160c1f16d55",
     "grade": true,
     "grade_id": "cell-ad64c28e5cc8686e",
     "locked": true,
     "points": 5,
     "schema_version": 3,
     "solution": false
    }
   },
   "outputs": [
    {
     "name": "stdout",
     "output_type": "stream",
     "text": [
      "[False  True False False  True]\n",
      "((5,), 8.889897948556635)\n"
     ]
    },
    {
     "data": {
      "text/html": [
       "\n",
       "        <div class=\"alert alert-box alert-success\">\n",
       "        <h1> <!--{id:\"CORRECTMARK\", marks:\"4\"}--> \n",
       "         ✓ [4 marks] \n",
       "         </h1> </div>"
      ],
      "text/plain": [
       "<IPython.core.display.HTML object>"
      ]
     },
     "metadata": {},
     "output_type": "display_data"
    }
   ],
   "source": [
    "print(is_flickervision)\n",
    "print(array_hash(is_flickervision))\n",
    "with tick.marks(4):\n",
    "    assert(check_hash(is_flickervision, ((5,), 8.8898979485566354)))"
   ]
  },
  {
   "cell_type": "markdown",
   "metadata": {},
   "source": [
    "\n",
    "* Which candle is most likely to be the defective one?\n",
    "[no marks for this; skip it if you can't work out how to answer this question!]\n",
    "    "
   ]
  },
  {
   "cell_type": "code",
   "execution_count": 88,
   "metadata": {
    "deletable": false,
    "nbgrader": {
     "cell_type": "code",
     "checksum": "8f8a2bff107abc0c5c111401b78896f1",
     "grade": true,
     "grade_id": "cell-b8588f6ae3920269",
     "locked": false,
     "points": 0,
     "schema_version": 3,
     "solution": true
    }
   },
   "outputs": [],
   "source": [
    "# YOUR CODE HERE\n",
    "most_likely_defective = np.argmax(candle_log_probs)"
   ]
  },
  {
   "cell_type": "code",
   "execution_count": null,
   "metadata": {},
   "outputs": [],
   "source": []
  },
  {
   "cell_type": "markdown",
   "metadata": {},
   "source": [
    "-----\n",
    "\n",
    "# Submission instructions"
   ]
  },
  {
   "cell_type": "markdown",
   "metadata": {},
   "source": [
    "## Before submission\n",
    "\n",
    "* Make sure you fill in any place that says `YOUR CODE HERE` or `\"YOUR ANSWER HERE\"`.\n",
    "* SAVE THE NOTEBOOK\n",
    "* DO NOT RENAME THE NOTEBOOK OR IT WILL NOT BE MARKED."
   ]
  },
  {
   "cell_type": "markdown",
   "metadata": {},
   "source": [
    "<div class=\"alert alert-block alert-danger\">\n",
    "    \n",
    "### Formatting the submission\n",
    "* **WARNING**: If you do not submit the correct file, you will not get any marks.\n",
    "* Submit this file **only** on Moodle. It will be named `<xxx>.ipynb`.\n",
    "\n",
    "</div>"
   ]
  },
  {
   "cell_type": "markdown",
   "metadata": {},
   "source": [
    "\n",
    "## Penalties (only for assessed labs)\n",
    "<font color=\"red\">\n",
    "    \n",
    "**Malformatted submissions**\n",
    "</font>\n",
    "These assignments are processed with an automatic tool; failure to follow instructions *precisely* will lead to you automatically losing two bands in grade regardless of whether the work is correct (not to mention a long delay in getting your work back). **If you submit a file without your work in it, it will be marked and you will get 0 marks.**\n",
    "\n",
    "<font color=\"red\">**Late submission**</font>\n",
    "Be aware that there is a two band penalty for every *day* of late submission, starting the moment of the deadline.\n",
    "\n",
    "<font color=\"red\">\n",
    "    \n",
    "**Plagiarism**\n",
    "</font> Plagiarism will be subject to the Plagiarism Policy. The penalties are severe."
   ]
  }
 ],
 "metadata": {
  "kernelspec": {
   "display_name": "Python 3 (ipykernel)",
   "language": "python",
   "name": "python3"
  },
  "language_info": {
   "codemirror_mode": {
    "name": "ipython",
    "version": 3
   },
   "file_extension": ".py",
   "mimetype": "text/x-python",
   "name": "python",
   "nbconvert_exporter": "python",
   "pygments_lexer": "ipython3",
   "version": "3.11.5"
  },
  "toc": {
   "nav_menu": {},
   "number_sections": true,
   "sideBar": true,
   "skip_h1_title": false,
   "toc_cell": false,
   "toc_position": {},
   "toc_section_display": "block",
   "toc_window_display": false
  },
  "varInspector": {
   "cols": {
    "lenName": 16,
    "lenType": 16,
    "lenVar": 40
   },
   "kernels_config": {
    "python": {
     "delete_cmd_postfix": "",
     "delete_cmd_prefix": "del ",
     "library": "var_list.py",
     "varRefreshCmd": "print(var_dic_list())"
    },
    "r": {
     "delete_cmd_postfix": ") ",
     "delete_cmd_prefix": "rm(",
     "library": "var_list.r",
     "varRefreshCmd": "cat(var_dic_list()) "
    }
   },
   "types_to_exclude": [
    "module",
    "function",
    "builtin_function_or_method",
    "instance",
    "_Feature"
   ],
   "window_display": false
  }
 },
 "nbformat": 4,
 "nbformat_minor": 4
}
