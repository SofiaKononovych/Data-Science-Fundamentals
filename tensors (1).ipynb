{
 "cells": [
  {
   "cell_type": "markdown",
   "metadata": {
    "deletable": false,
    "editable": false,
    "nbgrader": {
     "cell_type": "markdown",
     "checksum": "cd384abf30efc98755d86db997a8e725",
     "grade": false,
     "grade_id": "cell-513963dffd022dec",
     "locked": true,
     "schema_version": 3,
     "solution": false
    }
   },
   "source": [
    "# Data Fundamentals (H)\n",
    "John H. Williamson / Sebastian Stein -- Session 2023/2024\n",
    "\n",
    "----\n",
    "\n",
    "**This submission must be your own work; you will have to make a Declaration of Originality on submission.**"
   ]
  },
  {
   "cell_type": "markdown",
   "metadata": {},
   "source": [
    "---"
   ]
  },
  {
   "cell_type": "markdown",
   "metadata": {
    "deletable": false,
    "editable": false,
    "nbgrader": {
     "cell_type": "markdown",
     "checksum": "2db6c0635cbff811870370cdc13a6549",
     "grade": false,
     "grade_id": "cell-96ff555b80754366",
     "locked": true,
     "schema_version": 3,
     "solution": false
    }
   },
   "source": [
    "# Lab 2: **Assessed**\n",
    "## Numerical arrays and vectorized computation"
   ]
  },
  {
   "cell_type": "markdown",
   "metadata": {
    "deletable": false,
    "editable": false,
    "nbgrader": {
     "cell_type": "markdown",
     "checksum": "97b8cf00f3e613906244c48186f5d6fd",
     "grade": false,
     "grade_id": "cell-01c84fe8d49767fe",
     "locked": true,
     "schema_version": 3,
     "solution": false
    }
   },
   "source": [
    "\n",
    "### Notes\n",
    "It is recommended to keep the lecture notes open while doing this lab exercise.\n",
    "\n",
    "**This exercise is assessed**. Make sure you upload your solution by the deadline. Submit only the `.ipynb` file.\n",
    "\n",
    "<div class=\"alert alert-warning\">\n",
    "    \n",
    "    \n",
    "### Hints\n",
    "\n",
    "There is a [hint sheet](tensors_hints.ipynb) for this lab. **Attempt the questions without using the hint sheet; if you get stuck, then look at the hints.**\n",
    "    \n",
    "</div>\n",
    "\n",
    "### References\n",
    "If you are stuck, the following resources are helpful:\n",
    "\n",
    "* [NumPy cheatsheet](https://github.com/juliangaal/python-cheat-sheet/blob/master/NumPy)\n",
    "* [NumPy API reference](https://docs.scipy.org/doc/numpy-1.13.0/reference/)\n",
    "* [NumPy user guide](https://docs.scipy.org/doc/numpy-1.13.0/user/basics.html)\n",
    "\n",
    "* [Python for Data Science cheatsheet](https://s3.amazonaws.com/assets.datacamp.com/blog_assets/PythonForDataScience.pdf)\n",
    "* [Another NumPy Cheatsheet](https://s3.amazonaws.com/assets.datacamp.com/blog_assets/Numpy_Python_Cheat_Sheet.pdf)\n",
    "\n",
    "\n"
   ]
  },
  {
   "cell_type": "markdown",
   "metadata": {
    "deletable": false,
    "editable": false,
    "nbgrader": {
     "cell_type": "markdown",
     "checksum": "cb8aa5d625debd9856a4822644cd3b2b",
     "grade": false,
     "grade_id": "cell-8ede47f17b8fd075",
     "locked": true,
     "schema_version": 3,
     "solution": false
    }
   },
   "source": [
    "## Purpose of this lab\n",
    "This lab should help you:\n",
    "* understand floating point representations\n",
    "* understand how roundoff errors occur and how you can control them\n",
    "* understand how to do simple operations in a vectorised manner\n",
    "* work with higher rank tensors, selecting the attributes you want to work with\n",
    "\n",
    "\n",
    "Note: this lab requires solving puzzles which require that you understand the course material. Very little code is required to get the correct solutions.\n",
    "You *may* use loops in Parts 1 and 2; you must exclusively use vectorised operations in Part 3 + Part 4.\n"
   ]
  },
  {
   "cell_type": "code",
   "execution_count": 1,
   "metadata": {
    "ExecuteTime": {
     "end_time": "2022-10-04T15:33:37.592001Z",
     "start_time": "2022-10-04T15:33:37.581002Z"
    },
    "pycharm": {
     "is_executing": true
    }
   },
   "outputs": [],
   "source": [
    "import sys, os\n",
    "python_path = sys.executable\n",
    "\n",
    "## custom utils\n",
    "## uncomment and run the line below ONCE if you get an error about jhwutils\n",
    "## then RESTART THE KERNEL (Kernel/Restart)\n",
    "## the `import os` line must be used if in the lab; but it won't work if outside!\n",
    "# import os; os.environ[\"http_proxy\"] = \"http://wwwcache.gla.ac.uk:8080\"\n",
    "# !{python_path} -m pip --no-cache install --user -U https://github.com/johnhw/jhwutils/zipball/master\n",
    "\n",
    "# comment this line again before submitting!"
   ]
  },
  {
   "cell_type": "code",
   "execution_count": 2,
   "metadata": {
    "ExecuteTime": {
     "end_time": "2022-10-04T15:33:44.033513Z",
     "start_time": "2022-10-04T15:33:37.594027Z"
    },
    "deletable": false,
    "editable": false,
    "nbgrader": {
     "cell_type": "code",
     "checksum": "daff1f864229524d47ea7520d074cfa1",
     "grade": false,
     "grade_id": "cell-7d8b7c3700ac1bc7",
     "locked": true,
     "schema_version": 3,
     "solution": false
    },
    "pycharm": {
     "is_executing": true
    }
   },
   "outputs": [
    {
     "name": "stdout",
     "output_type": "stream",
     "text": [
      "Everything imported OK\n"
     ]
    }
   ],
   "source": [
    "# Standard imports\n",
    "# Make sure you run this cell!\n",
    "# NumPy\n",
    "import numpy as np  \n",
    "np.set_printoptions(suppress=True)\n",
    "\n",
    "# Set up Matplotlib\n",
    "import matplotlib as mpl   \n",
    "import matplotlib.pyplot as plt\n",
    "%matplotlib inline\n",
    "plt.rc('figure', figsize=(8.0, 4.0), dpi=140)\n",
    "\n",
    "from jhwutils.checkarr import array_hash, check_hash\n",
    "from jhwutils.float_inspector import print_float_html\n",
    "from jhwutils.vector_checks import check_is_vectorised\n",
    "import jhwutils.image_audio as ia\n",
    "import jhwutils.tick as tick\n",
    "import binascii\n",
    "\n",
    "def case_crc(s):\n",
    "    h_crc = binascii.crc32(bytes(s.lower(), \"ascii\"))\n",
    "    print(f\"0x{h_crc:08x}\")\n",
    "    return h_crc\n",
    "\n",
    "def list_crc(l):\n",
    "    return case_crc(str(l))\n",
    "\n",
    "def strict_array_hash(arr):\n",
    "    ix = np.meshgrid(*[np.arange(i) for i in arr.shape], indexing=\"ij\")\n",
    "    h = array_hash(np.mean([i*arr for i in ix], axis=0))\n",
    "    print(h)\n",
    "    return h\n",
    "\n",
    "import lzma, base64\n",
    "exec(lzma.decompress(base64.b64decode(b'/Td6WFoAAATm1rRGAgAhARYAAAB0L+Wj4AKSAVBdAAUaCmNWCuiTCXe8bHWT/WeqghymfBRQKyklXJ3lgDWHk34myezvldkgSu3Adiur0vA+OkDfUwiMWzEclOxunCssCtgpWpQMTwtylLQC9aX0APwnuNk2VBPkVpt3pZsFKs0BMyRTuhrg0V/Xx6bM+Bn1nFyNXcypfmjxbXjoi9BMKtAPcoUEcdDEem5mlPC6l+muDcPz43g11Avn/dn69ADhuA8mTOK+r1zMgsO23x/6JLKGZKXp76wYb1gJTmVk2SQ0TJgkbCb5uHsoT42wPaYRpu/I+3tfZ5li4brzvMpA1/uvSdPxkSBTqxx5qXIiMRWnPqxEyqQ6qNxU7A9znfx5WRm4OIT0Q6gUkot60cVFJDMqH1aXLyHakpArv/O0LZaLOHb8MQK0UY0C2WqQJwgOCEfqEuAr2RwvU3PqAMwC6LqhYIFBRFqVH4ESeISgAAA2Mcm1UUpA8QAB7AKTBQAA5dAtcbHEZ/sCAAAAAARZWg==')))\n",
    "np.set_printoptions(precision=30)\n",
    "print(\"Everything imported OK\")"
   ]
  },
  {
   "cell_type": "markdown",
   "metadata": {},
   "source": [
    "## Precision\n",
    "Want to change precsion of number printing in NumPy?\n",
    "\n",
    "* `np.set_printoptions(precision=30)` will show the numbers in full\n",
    "* `np.set_printoptions(precision=3)` will show three decimal places, etc.\n",
    "\n",
    "\n",
    "## 1. Fake floats\n",
    "\n",
    "<img src=\"imgs/particles.webp\" width=\"50%\">\n",
    "\n",
    "You are asked to help fix a scientific instrument in a particle accelerator. There are two types of sensors in use, both storing accumulated energy in an experiment (in microelectronvolts, ueV):\n",
    "\n",
    "* **Markon VQ3**; which internally uses `float32` \n",
    "* **Allan Versai T12-9**; which internally uses `float64` \n",
    "\n",
    "You have a file containing batches of data from these sensors. Each batch contains measurements only from one sensor type. You urgently need to know which sensors were used for which batches.\n",
    "\n",
    "Unfortunately there are complications:\n",
    "- the batches are in an unknown order.\n",
    "- the data format used to store the results on disk is `uint64` (i.e. unsigned 64 bit *integers*). Energy levels are rounded down to the nearest integer and stored in a file.\n",
    "- saboteurs ideologically opposed to discovery of the Higgs boson have inserted fake batches that don't come from either sensor.\n",
    "\n",
    "Work out which sensor was used for which batch, storing the results in lists `markon`, `allan` and `fake`. The lists should contain the indices (in order) of the batches from that sensor (e.g. `markon = [0, 4, 9, 11]`).\n",
    "\n",
    "Note: you don't need to solve all of this in a vectorised way; loops are fine if they are appropriate.\n"
   ]
  },
  {
   "cell_type": "code",
   "execution_count": 3,
   "metadata": {
    "deletable": false,
    "nbgrader": {
     "cell_type": "code",
     "checksum": "75c159ab51d18535599436c51b857ece",
     "grade": false,
     "grade_id": "cell-6f48e3b894d83428",
     "locked": false,
     "schema_version": 3,
     "solution": true,
     "task": false
    },
    "pycharm": {
     "is_executing": true
    }
   },
   "outputs": [
    {
     "name": "stdout",
     "output_type": "stream",
     "text": [
      "[0, 4, 6, 9, 11, 12]\n",
      "[3, 5, 7, 8, 13, 15]\n",
      "[1, 2, 10, 14]\n"
     ]
    }
   ],
   "source": [
    "# YOUR CODE HERE\n",
    "\n",
    "batches = np.load(\"data/data_batches.npy\")\n",
    "# print(batches.shape, batches.dtype)\n",
    "\n",
    "markon = []\n",
    "allan = []\n",
    "fake = []\n",
    "\n",
    "for i, data_batch in enumerate(batches):\n",
    "        float32 = np.float32(data_batch)\n",
    "        float64 = np.float64(data_batch)\n",
    "        if np.all(np.uint64(float32) == data_batch):\n",
    "            markon.append(i)\n",
    "        elif np.all(np.uint64(float64) == data_batch):\n",
    "            allan.append(i)\n",
    "        else:\n",
    "            fake.append(i)\n",
    "\n",
    "print(markon)\n",
    "print(allan)\n",
    "print(fake)\n",
    "# YOUR CODE HERE"
   ]
  },
  {
   "cell_type": "code",
   "execution_count": 4,
   "metadata": {
    "deletable": false,
    "editable": false,
    "nbgrader": {
     "cell_type": "code",
     "checksum": "348e5cd6f0af6ff3ef1028cab3c82f6e",
     "grade": true,
     "grade_id": "cell-182b144d65efab5e",
     "locked": true,
     "points": 2,
     "schema_version": 3,
     "solution": false,
     "task": false
    },
    "pycharm": {
     "is_executing": true
    }
   },
   "outputs": [
    {
     "name": "stdout",
     "output_type": "stream",
     "text": [
      "0x1a6223db\n"
     ]
    },
    {
     "data": {
      "text/html": [
       "\n",
       "        <div class=\"alert alert-box alert-success\">\n",
       "        <h1> <!--{id:\"CORRECTMARK\", marks:\"3\"}--> \n",
       "         ✓ [3 marks] \n",
       "         </h1> </div>"
      ],
      "text/plain": [
       "<IPython.core.display.HTML object>"
      ]
     },
     "metadata": {},
     "output_type": "display_data"
    }
   ],
   "source": [
    "## Tests        \n",
    "with tick.marks(3):\n",
    "    assert list_crc(markon)==0x1a6223db"
   ]
  },
  {
   "cell_type": "code",
   "execution_count": 5,
   "metadata": {
    "deletable": false,
    "editable": false,
    "nbgrader": {
     "cell_type": "code",
     "checksum": "284450c6be5f9fd50b0af2af7a7209d7",
     "grade": true,
     "grade_id": "cell-182b144d65efab5d",
     "locked": true,
     "points": 2,
     "schema_version": 3,
     "solution": false,
     "task": false
    },
    "pycharm": {
     "is_executing": true
    }
   },
   "outputs": [
    {
     "name": "stdout",
     "output_type": "stream",
     "text": [
      "0x2781b194\n"
     ]
    },
    {
     "data": {
      "text/html": [
       "\n",
       "        <div class=\"alert alert-box alert-success\">\n",
       "        <h1> <!--{id:\"CORRECTMARK\", marks:\"3\"}--> \n",
       "         ✓ [3 marks] \n",
       "         </h1> </div>"
      ],
      "text/plain": [
       "<IPython.core.display.HTML object>"
      ]
     },
     "metadata": {},
     "output_type": "display_data"
    }
   ],
   "source": [
    "with tick.marks(3):\n",
    "    assert list_crc(allan)==0x2781b194"
   ]
  },
  {
   "cell_type": "code",
   "execution_count": 6,
   "metadata": {
    "deletable": false,
    "editable": false,
    "nbgrader": {
     "cell_type": "code",
     "checksum": "98fa48a22fa09edd7c38019c3ba565a2",
     "grade": true,
     "grade_id": "cell-182b154d65efab5e",
     "locked": true,
     "points": 2,
     "schema_version": 3,
     "solution": false,
     "task": false
    },
    "pycharm": {
     "is_executing": true
    }
   },
   "outputs": [
    {
     "name": "stdout",
     "output_type": "stream",
     "text": [
      "0x2c41703e\n"
     ]
    },
    {
     "data": {
      "text/html": [
       "\n",
       "        <div class=\"alert alert-box alert-success\">\n",
       "        <h1> <!--{id:\"CORRECTMARK\", marks:\"3\"}--> \n",
       "         ✓ [3 marks] \n",
       "         </h1> </div>"
      ],
      "text/plain": [
       "<IPython.core.display.HTML object>"
      ]
     },
     "metadata": {},
     "output_type": "display_data"
    }
   ],
   "source": [
    "with tick.marks(3):\n",
    "    assert list_crc(fake)==0x2c41703e"
   ]
  },
  {
   "cell_type": "markdown",
   "metadata": {
    "deletable": false,
    "editable": false,
    "nbgrader": {
     "cell_type": "markdown",
     "checksum": "a9312e343634e0b325935aace7170f85",
     "grade": false,
     "grade_id": "cell-cd90398823b51d3c",
     "locked": true,
     "schema_version": 3,
     "solution": false
    }
   },
   "source": [
    "# 2. Financial misconduct"
   ]
  },
  {
   "cell_type": "markdown",
   "metadata": {
    "deletable": false,
    "editable": false,
    "nbgrader": {
     "cell_type": "markdown",
     "checksum": "49867fbddf696ef286f649febe3d40eb",
     "grade": false,
     "grade_id": "cell-cd1b63eb91f1612d",
     "locked": true,
     "schema_version": 3,
     "solution": false
    }
   },
   "source": [
    "You have been asked to verify the computation of some financial predictive models. These models produces a sequence of updates to the value of a product. The product updates are mainly of two types:\n",
    "* **large deposits**, representing inflows of new cash, often up into the billions of pounds\n",
    "* **small returns** from high-frequency trading activity\n",
    "\n",
    "The simulator produces **two** model outputs from two distinct models `a` and `b` at each time step, which provide very similar estimates of the value of these updates. Sometimes these are equal to each other.\n",
    "\n",
    "\n",
    "You are asked to write code that will produce:\n",
    "\n",
    "* an estimate of the total value of a product over some series\n",
    "* the total difference between two different product models, both of which are very similar.\n",
    "\n",
    "You are given the existing code below, which is supposed to compute and return:\n",
    "\n",
    "* the sum of the `a` updates (i.e. total value of `a`)\n",
    "* the accumulated difference between the `a` and `b` products.\n",
    "\n",
    "However, the result is very inaccurate when tested. Modify this code to be more accurate. Do NOT use NumPy, or *any* other external module to improve your calculation. Use floating point, regardless of the fact that floating point is not appropriate for financial data.\n",
    "\n",
    "<div class=\"alert alert-danger\">\n",
    "    \n",
    "You have no access to the `simulate()` function. It calls your code with values for `a` and `b`, but you cannot its source code or see how it works internally. \n",
    "</div>\n",
    "\n",
    "\n",
    "The errors should be less than 0.5 for the `a` sum and less than 1e-10 for the difference in predictions."
   ]
  },
  {
   "cell_type": "code",
   "execution_count": 7,
   "metadata": {
    "ExecuteTime": {
     "end_time": "2022-10-04T15:33:44.048500Z",
     "start_time": "2022-10-04T15:33:44.038501Z"
    },
    "deletable": false,
    "editable": false,
    "nbgrader": {
     "cell_type": "code",
     "checksum": "21c2d7c030441e0692de663e3abdda1a",
     "grade": false,
     "grade_id": "cell-50aa86e1b77a72bd",
     "locked": true,
     "schema_version": 3,
     "solution": false
    },
    "pycharm": {
     "is_executing": true
    }
   },
   "outputs": [],
   "source": [
    "class Simulator: # we use a class just to hold variables between calls\n",
    "    def __init__(self):\n",
    "        # initialise accumulators\n",
    "        self.a_sum = 0\n",
    "        self.b_sum = 0\n",
    "        \n",
    "    def update(self, a, b):\n",
    "        # increment\n",
    "        self.a_sum += a\n",
    "        self.b_sum += b\n",
    "       \n",
    "    def results(self):\n",
    "        # return a  pair of results\n",
    "        return self.a_sum, self.a_sum - self.b_sum\n",
    "        "
   ]
  },
  {
   "cell_type": "code",
   "execution_count": 8,
   "metadata": {
    "ExecuteTime": {
     "end_time": "2022-10-04T15:33:45.945682Z",
     "start_time": "2022-10-04T15:33:44.053634Z"
    },
    "deletable": false,
    "editable": false,
    "nbgrader": {
     "cell_type": "code",
     "checksum": "58c881d1e653f83c5e84e2c129cd7456",
     "grade": false,
     "grade_id": "cell-35c606e253a47cef",
     "locked": true,
     "schema_version": 3,
     "solution": false
    },
    "pycharm": {
     "is_executing": true
    }
   },
   "outputs": [
    {
     "name": "stdout",
     "output_type": "stream",
     "text": [
      "Error in a_sum is 8.0078125 and 4.97764360626843 in d_sum\n"
     ]
    }
   ],
   "source": [
    "a_error, d_error = simulate(Simulator())\n",
    "# bad result!\n",
    "print(f\"Error in a_sum is {a_error} and {d_error} in d_sum\")"
   ]
  },
  {
   "cell_type": "markdown",
   "metadata": {
    "deletable": false,
    "editable": false,
    "nbgrader": {
     "cell_type": "markdown",
     "checksum": "0721eda0ab3ed291583c41716e7ba37a",
     "grade": false,
     "grade_id": "cell-0f6db2fc517f160b",
     "locked": true,
     "schema_version": 3,
     "solution": false
    }
   },
   "source": [
    "Copy and paste the `Simulator` into the cell below and modify it:"
   ]
  },
  {
   "cell_type": "code",
   "execution_count": 9,
   "metadata": {
    "ExecuteTime": {
     "end_time": "2022-10-04T15:33:45.960633Z",
     "start_time": "2022-10-04T15:33:45.951491Z"
    },
    "deletable": false,
    "nbgrader": {
     "cell_type": "code",
     "checksum": "827e00ef7b48ad6a8209bc14dae5de46",
     "grade": false,
     "grade_id": "cell-25d29ac908333f15",
     "locked": false,
     "schema_version": 3,
     "solution": true
    },
    "pycharm": {
     "is_executing": true
    }
   },
   "outputs": [],
   "source": [
    "# YOUR CODE HERE\n",
    "class Simulator: # we use a class just to hold variables between calls\n",
    "    def __init__(self):\n",
    "        # initialise accumulators\n",
    "        self.a_sum = 0\n",
    "        self.b_sum = 0\n",
    "        \n",
    "        self.a_large = 0\n",
    "        self.a_small = 0\n",
    "        \n",
    "        self.b_diff = 0\n",
    "                      \n",
    "    def update(self, a, b):\n",
    "        # increment\n",
    "        \n",
    "        if (a > 10):\n",
    "            self.a_large += a\n",
    "        else:\n",
    "            self.a_small += a\n",
    "        \n",
    "        self.b_diff += (a - b)\n",
    "       \n",
    "    def results(self):\n",
    "        self.a_sum = self.a_large + self.a_small\n",
    "        \n",
    "        # return a  pair of results\n",
    "        return self.a_sum, self.b_diff"
   ]
  },
  {
   "cell_type": "code",
   "execution_count": 10,
   "metadata": {
    "ExecuteTime": {
     "end_time": "2022-10-04T15:33:47.818942Z",
     "start_time": "2022-10-04T15:33:45.963484Z"
    },
    "deletable": false,
    "editable": false,
    "nbgrader": {
     "cell_type": "code",
     "checksum": "f1e98bef3ef86adad3e5868986316e6e",
     "grade": false,
     "grade_id": "cell-3cb0d8f80031eb15",
     "locked": true,
     "schema_version": 3,
     "solution": false
    },
    "pycharm": {
     "is_executing": true
    }
   },
   "outputs": [
    {
     "name": "stdout",
     "output_type": "stream",
     "text": [
      "Error in a_sum is 0.015625 and 2.2737367544323206e-11 in d_sum\n"
     ]
    }
   ],
   "source": [
    "    \n",
    "a_error, d_error = simulate(Simulator())\n",
    "print(f\"Error in a_sum is {a_error} and {d_error} in d_sum\")"
   ]
  },
  {
   "cell_type": "code",
   "execution_count": 11,
   "metadata": {
    "ExecuteTime": {
     "end_time": "2022-10-04T15:33:47.834825Z",
     "start_time": "2022-10-04T15:33:47.823821Z"
    },
    "deletable": false,
    "editable": false,
    "nbgrader": {
     "cell_type": "code",
     "checksum": "a1724933251f1964065800aa35105040",
     "grade": true,
     "grade_id": "cell-2b4d36e72bbc2189",
     "locked": true,
     "points": 2,
     "schema_version": 3,
     "solution": false
    },
    "pycharm": {
     "is_executing": true
    }
   },
   "outputs": [
    {
     "data": {
      "text/html": [
       "\n",
       "        <div class=\"alert alert-box alert-success\">\n",
       "        <h1> <!--{id:\"CORRECTMARK\", marks:\"2\"}--> \n",
       "         ✓ [2 marks] \n",
       "         </h1> </div>"
      ],
      "text/plain": [
       "<IPython.core.display.HTML object>"
      ]
     },
     "metadata": {},
     "output_type": "display_data"
    }
   ],
   "source": [
    "with tick.marks(2):\n",
    "    assert(a_error<2.0)"
   ]
  },
  {
   "cell_type": "code",
   "execution_count": 12,
   "metadata": {
    "ExecuteTime": {
     "end_time": "2022-10-04T15:33:47.850820Z",
     "start_time": "2022-10-04T15:33:47.839874Z"
    },
    "deletable": false,
    "editable": false,
    "nbgrader": {
     "cell_type": "code",
     "checksum": "4eab204e6294cd475378f325751842be",
     "grade": true,
     "grade_id": "cell-1fd742ccc66cbe18",
     "locked": true,
     "points": 2,
     "schema_version": 3,
     "solution": false
    },
    "pycharm": {
     "is_executing": true
    }
   },
   "outputs": [
    {
     "data": {
      "text/html": [
       "\n",
       "        <div class=\"alert alert-box alert-success\">\n",
       "        <h1> <!--{id:\"CORRECTMARK\", marks:\"2\"}--> \n",
       "         ✓ [2 marks] \n",
       "         </h1> </div>"
      ],
      "text/plain": [
       "<IPython.core.display.HTML object>"
      ]
     },
     "metadata": {},
     "output_type": "display_data"
    }
   ],
   "source": [
    "with tick.marks(2):\n",
    "    assert(a_error<0.5)"
   ]
  },
  {
   "cell_type": "code",
   "execution_count": 13,
   "metadata": {
    "ExecuteTime": {
     "end_time": "2022-10-04T15:33:47.866822Z",
     "start_time": "2022-10-04T15:33:47.854828Z"
    },
    "deletable": false,
    "editable": false,
    "nbgrader": {
     "cell_type": "code",
     "checksum": "11744a04b30ca522a578f994a2866ed4",
     "grade": true,
     "grade_id": "cell-d9f1430e6e4477b5",
     "locked": true,
     "points": 2,
     "schema_version": 3,
     "solution": false
    },
    "pycharm": {
     "is_executing": true
    }
   },
   "outputs": [
    {
     "data": {
      "text/html": [
       "\n",
       "        <div class=\"alert alert-box alert-success\">\n",
       "        <h1> <!--{id:\"CORRECTMARK\", marks:\"2\"}--> \n",
       "         ✓ [2 marks] \n",
       "         </h1> </div>"
      ],
      "text/plain": [
       "<IPython.core.display.HTML object>"
      ]
     },
     "metadata": {},
     "output_type": "display_data"
    }
   ],
   "source": [
    "with tick.marks(2):\n",
    "    assert(d_error<1e-6)"
   ]
  },
  {
   "cell_type": "code",
   "execution_count": 14,
   "metadata": {
    "ExecuteTime": {
     "end_time": "2022-10-04T15:33:47.882821Z",
     "start_time": "2022-10-04T15:33:47.870818Z"
    },
    "deletable": false,
    "editable": false,
    "nbgrader": {
     "cell_type": "code",
     "checksum": "b60c187f08546c01158fa20aa97f16bf",
     "grade": true,
     "grade_id": "cell-333705048f84aa8e",
     "locked": true,
     "points": 2,
     "schema_version": 3,
     "solution": false
    },
    "pycharm": {
     "is_executing": true
    }
   },
   "outputs": [
    {
     "data": {
      "text/html": [
       "\n",
       "        <div class=\"alert alert-box alert-success\">\n",
       "        <h1> <!--{id:\"CORRECTMARK\", marks:\"2\"}--> \n",
       "         ✓ [2 marks] \n",
       "         </h1> </div>"
      ],
      "text/plain": [
       "<IPython.core.display.HTML object>"
      ]
     },
     "metadata": {},
     "output_type": "display_data"
    }
   ],
   "source": [
    "with tick.marks(2):\n",
    "    assert(d_error<5e-11)"
   ]
  },
  {
   "cell_type": "markdown",
   "metadata": {},
   "source": [
    "# 3. Vectorised operations\n",
    "\n",
    "<div class=\"alert alert-danger\">\n",
    "    \n",
    "**From this point on, no more `for` or `while` loops! Use only vectorised computations.**\n",
    "    \n",
    "</div> \n",
    "\n",
    "In each of the examples below, you're given some code that does not use NumPy. Rewrite the code, without using `for`, `while`, list comprehensions, or any other form of Python iteration or recursion. Vectorise the code, and return the same array as the original code. **The first one is done for you.**\n",
    "\n",
    "All of the vectorised versions could be done one short line.\n"
   ]
  },
  {
   "cell_type": "code",
   "execution_count": 15,
   "metadata": {
    "ExecuteTime": {
     "end_time": "2022-10-04T15:33:47.897819Z",
     "start_time": "2022-10-04T15:33:47.890057Z"
    },
    "pycharm": {
     "is_executing": true
    }
   },
   "outputs": [],
   "source": [
    "def f(x):\n",
    "    a = []\n",
    "    b = []\n",
    "    for i in range(x):\n",
    "        a.append(i**2)\n",
    "    for i in range(1, x):\n",
    "        b.append(a[i]-a[i-1])        \n",
    "    return b"
   ]
  },
  {
   "cell_type": "code",
   "execution_count": 16,
   "metadata": {
    "ExecuteTime": {
     "end_time": "2022-10-04T15:33:47.913882Z",
     "start_time": "2022-10-04T15:33:47.901822Z"
    },
    "pycharm": {
     "is_executing": true
    }
   },
   "outputs": [],
   "source": [
    "# this one is already done for you...\n",
    "def vec_f(x):\n",
    "    return np.diff(np.arange(x)**2)"
   ]
  },
  {
   "cell_type": "code",
   "execution_count": 17,
   "metadata": {
    "ExecuteTime": {
     "end_time": "2022-10-04T15:33:47.944881Z",
     "start_time": "2022-10-04T15:33:47.918889Z"
    },
    "deletable": false,
    "editable": false,
    "nbgrader": {
     "cell_type": "code",
     "checksum": "0dd5581935b3ffc25cd1de64b48f7b2b",
     "grade": true,
     "grade_id": "cell-22e93dfa4772c871",
     "locked": true,
     "points": 0,
     "schema_version": 3,
     "solution": false,
     "task": false
    },
    "pycharm": {
     "is_executing": true
    }
   },
   "outputs": [
    {
     "data": {
      "text/html": [
       "\n",
       "        <div class=\"alert alert-box alert-success\">\n",
       "        <h1> <!--{id:\"CORRECTMARK\", marks:\"0\"}--> \n",
       "         ✓ [0 marks] \n",
       "         </h1> </div>"
      ],
      "text/plain": [
       "<IPython.core.display.HTML object>"
      ]
     },
     "metadata": {},
     "output_type": "display_data"
    }
   ],
   "source": [
    "with tick.marks(0):\n",
    "    assert check_is_vectorised(f, vec_f, 1)\n",
    "    assert check_is_vectorised(f, vec_f, 0)\n",
    "    assert check_is_vectorised(f, vec_f, 10)\n",
    "    assert check_is_vectorised(f, vec_f, 103)\n",
    "    "
   ]
  },
  {
   "cell_type": "code",
   "execution_count": 18,
   "metadata": {
    "ExecuteTime": {
     "end_time": "2022-10-04T15:33:47.960889Z",
     "start_time": "2022-10-04T15:33:47.947885Z"
    },
    "pycharm": {
     "is_executing": true
    }
   },
   "outputs": [
    {
     "name": "stdout",
     "output_type": "stream",
     "text": [
      "[5]\n"
     ]
    }
   ],
   "source": [
    "def g(x):\n",
    "    k = 0 \n",
    "    y = []\n",
    "    z = []\n",
    "    for i in range(len(x)):        \n",
    "        k += x[i] * 5\n",
    "        y.append(k)\n",
    "    for i in range(len(x)):\n",
    "        if i%3==0:\n",
    "            z.append(y[i])\n",
    "    return z  \n",
    "\n",
    "print(g([1, 3, 10]))"
   ]
  },
  {
   "cell_type": "code",
   "execution_count": 19,
   "metadata": {
    "ExecuteTime": {
     "end_time": "2022-10-04T15:33:47.975899Z",
     "start_time": "2022-10-04T15:33:47.964886Z"
    },
    "deletable": false,
    "nbgrader": {
     "cell_type": "code",
     "checksum": "3fb6735a382b4f8b1b291e0264c64de3",
     "grade": false,
     "grade_id": "cell-12da6ac80f07594a",
     "locked": false,
     "schema_version": 3,
     "solution": true,
     "task": false
    },
    "pycharm": {
     "is_executing": true
    }
   },
   "outputs": [],
   "source": [
    "# YOUR CODE HERE\n",
    "def vec_g(x):\n",
    "    y = np.cumsum(x * 5)\n",
    "    z = y[::3]\n",
    "    return z"
   ]
  },
  {
   "cell_type": "code",
   "execution_count": 20,
   "metadata": {
    "ExecuteTime": {
     "end_time": "2022-10-04T15:33:48.006705Z",
     "start_time": "2022-10-04T15:33:47.979888Z"
    },
    "deletable": false,
    "editable": false,
    "nbgrader": {
     "cell_type": "code",
     "checksum": "1b2049450f75ad2a89ce0b7746ba0e06",
     "grade": true,
     "grade_id": "cell-94f93c15907f71fa",
     "locked": true,
     "points": 4,
     "schema_version": 3,
     "solution": false,
     "task": false
    },
    "pycharm": {
     "is_executing": true
    }
   },
   "outputs": [
    {
     "data": {
      "text/html": [
       "\n",
       "        <div class=\"alert alert-box alert-success\">\n",
       "        <h1> <!--{id:\"CORRECTMARK\", marks:\"4\"}--> \n",
       "         ✓ [4 marks] \n",
       "         </h1> </div>"
      ],
      "text/plain": [
       "<IPython.core.display.HTML object>"
      ]
     },
     "metadata": {},
     "output_type": "display_data"
    }
   ],
   "source": [
    "with tick.marks(4):\n",
    "    assert check_is_vectorised(g, vec_g, np.arange(10))\n",
    "    assert check_is_vectorised(g, vec_g, np.arange(10)**2)\n",
    "    assert check_is_vectorised(g, vec_g, np.arange(3)+1)\n",
    "    "
   ]
  },
  {
   "cell_type": "code",
   "execution_count": 21,
   "metadata": {
    "ExecuteTime": {
     "end_time": "2022-10-04T15:33:48.022707Z",
     "start_time": "2022-10-04T15:33:48.010706Z"
    },
    "pycharm": {
     "is_executing": true
    }
   },
   "outputs": [
    {
     "name": "stdout",
     "output_type": "stream",
     "text": [
      "[ 5 13 24]\n"
     ]
    }
   ],
   "source": [
    "def h(x, y):\n",
    "    l = []\n",
    "    k = 0\n",
    "    for i in range(len(x)):\n",
    "        k += x[i]\n",
    "        p = x[i] * y[i] + k        \n",
    "        if y[i]!=0:\n",
    "            l.append(p)\n",
    "    return np.array(l)\n",
    "\n",
    "print(h([1,2,3], [4,5,6]))"
   ]
  },
  {
   "cell_type": "code",
   "execution_count": 22,
   "metadata": {
    "ExecuteTime": {
     "end_time": "2022-10-04T15:33:48.038707Z",
     "start_time": "2022-10-04T15:33:48.025708Z"
    },
    "deletable": false,
    "nbgrader": {
     "cell_type": "code",
     "checksum": "f64dafc5c5a731a197233a54ff809e2e",
     "grade": false,
     "grade_id": "cell-54478fb2ec5b90df",
     "locked": false,
     "schema_version": 3,
     "solution": true,
     "task": false
    },
    "pycharm": {
     "is_executing": true
    }
   },
   "outputs": [
    {
     "name": "stdout",
     "output_type": "stream",
     "text": [
      "[ 5 13 24]\n"
     ]
    }
   ],
   "source": [
    "# YOUR CODE HERE\n",
    "def vec_h(x, y):\n",
    "    k = np.cumsum(x)\n",
    "    p = x * y + k\n",
    "    check = (y != 0)\n",
    "    return p[check]\n",
    "\n",
    "x = np.array([1,2,3])\n",
    "y = np.array([4,5,6])\n",
    "\n",
    "print(vec_h(x, y))"
   ]
  },
  {
   "cell_type": "code",
   "execution_count": 23,
   "metadata": {
    "ExecuteTime": {
     "end_time": "2022-10-04T15:33:48.069717Z",
     "start_time": "2022-10-04T15:33:48.041054Z"
    },
    "deletable": false,
    "editable": false,
    "nbgrader": {
     "cell_type": "code",
     "checksum": "3cee6a3d45a4f7ddb5cca4c0300385b7",
     "grade": true,
     "grade_id": "cell-5b96021d7643abc9",
     "locked": true,
     "points": 4,
     "schema_version": 3,
     "solution": false,
     "task": false
    },
    "pycharm": {
     "is_executing": true
    }
   },
   "outputs": [
    {
     "data": {
      "text/html": [
       "\n",
       "        <div class=\"alert alert-box alert-success\">\n",
       "        <h1> <!--{id:\"CORRECTMARK\", marks:\"4\"}--> \n",
       "         ✓ [4 marks] \n",
       "         </h1> </div>"
      ],
      "text/plain": [
       "<IPython.core.display.HTML object>"
      ]
     },
     "metadata": {},
     "output_type": "display_data"
    }
   ],
   "source": [
    "with tick.marks(4):\n",
    "    assert check_is_vectorised(h, vec_h, np.arange(5), np.arange(5)-3)\n",
    "    assert check_is_vectorised(h, vec_h, np.arange(5), np.arange(5)+3)\n",
    "    assert check_is_vectorised(h, vec_h, np.arange(9)/10.0, np.arange(9)-3)"
   ]
  },
  {
   "cell_type": "code",
   "execution_count": 24,
   "metadata": {
    "ExecuteTime": {
     "end_time": "2022-10-04T15:33:48.085713Z",
     "start_time": "2022-10-04T15:33:48.072706Z"
    },
    "pycharm": {
     "is_executing": true
    }
   },
   "outputs": [
    {
     "name": "stdout",
     "output_type": "stream",
     "text": [
      "[0.9092974268256817]\n"
     ]
    }
   ],
   "source": [
    "def a(x, y):\n",
    "    z = []\n",
    "    for i in range(len(x)):        \n",
    "        if y[i]<0:\n",
    "            z.append(np.cos(x[i])*y[i])\n",
    "        else:\n",
    "            z.append(np.sin(x[i])*y[i])\n",
    "    return np.array(z)\n",
    "\n",
    "print(a([2], [1]))"
   ]
  },
  {
   "cell_type": "code",
   "execution_count": 25,
   "metadata": {
    "ExecuteTime": {
     "end_time": "2022-10-04T15:33:48.101707Z",
     "start_time": "2022-10-04T15:33:48.089714Z"
    },
    "deletable": false,
    "nbgrader": {
     "cell_type": "code",
     "checksum": "25cc39ed187f0af8ce500eacbc4e6fee",
     "grade": false,
     "grade_id": "cell-91494e6f779e6024",
     "locked": false,
     "schema_version": 3,
     "solution": true,
     "task": false
    },
    "pycharm": {
     "is_executing": true
    }
   },
   "outputs": [
    {
     "name": "stdout",
     "output_type": "stream",
     "text": [
      "0.9092974268256817\n"
     ]
    }
   ],
   "source": [
    "# YOUR CODE HERE\n",
    "def vec_a(x, y):\n",
    "    z = np.where(y < 0, np.cos(x) * y, np.sin(x) * y)\n",
    "    return np.array(z)\n",
    "\n",
    "print(vec_a(2, 1))"
   ]
  },
  {
   "cell_type": "code",
   "execution_count": 26,
   "metadata": {
    "ExecuteTime": {
     "end_time": "2022-10-04T15:33:48.131839Z",
     "start_time": "2022-10-04T15:33:48.106801Z"
    },
    "deletable": false,
    "editable": false,
    "nbgrader": {
     "cell_type": "code",
     "checksum": "6c065014ad3ce3dd7a5f92ff5f80c75a",
     "grade": true,
     "grade_id": "cell-5ebec8285f108577",
     "locked": true,
     "points": 4,
     "schema_version": 3,
     "solution": false,
     "task": false
    },
    "pycharm": {
     "is_executing": true
    }
   },
   "outputs": [
    {
     "data": {
      "text/html": [
       "\n",
       "        <div class=\"alert alert-box alert-success\">\n",
       "        <h1> <!--{id:\"CORRECTMARK\", marks:\"4\"}--> \n",
       "         ✓ [4 marks] \n",
       "         </h1> </div>"
      ],
      "text/plain": [
       "<IPython.core.display.HTML object>"
      ]
     },
     "metadata": {},
     "output_type": "display_data"
    }
   ],
   "source": [
    "with tick.marks(4):\n",
    "    assert check_is_vectorised(a, vec_a, np.arange(5), np.arange(5)-3)\n",
    "    assert check_is_vectorised(a, vec_a, np.arange(5), np.arange(5)+3)\n",
    "    assert check_is_vectorised(a, vec_a, np.arange(9)/10.0, np.arange(9)/3)"
   ]
  },
  {
   "cell_type": "code",
   "execution_count": 27,
   "metadata": {
    "ExecuteTime": {
     "end_time": "2022-10-04T15:33:48.162953Z",
     "start_time": "2022-10-04T15:33:48.139819Z"
    },
    "pycharm": {
     "is_executing": true
    }
   },
   "outputs": [],
   "source": [
    "def b(x):\n",
    "    l = []\n",
    "    for i in range(x.shape[1]):\n",
    "        sum = 0\n",
    "        for j in range(x.shape[0]):\n",
    "            sum += x[j,i]\n",
    "        l.append(sum / x.shape[0])        \n",
    "    min_x = np.inf\n",
    "    min_ix = 0\n",
    "    for i in range(x.shape[1]):\n",
    "        if l[i]<min_x:\n",
    "            min_x = l[i]\n",
    "            min_ix = i    \n",
    "    return min_ix     "
   ]
  },
  {
   "cell_type": "code",
   "execution_count": 28,
   "metadata": {
    "ExecuteTime": {
     "end_time": "2022-10-04T15:33:48.192821Z",
     "start_time": "2022-10-04T15:33:48.171829Z"
    },
    "deletable": false,
    "nbgrader": {
     "cell_type": "code",
     "checksum": "7db7707225d2c629c0211958ae624c9e",
     "grade": false,
     "grade_id": "cell-5889e598d9b6c4be",
     "locked": false,
     "schema_version": 3,
     "solution": true,
     "task": false
    },
    "pycharm": {
     "is_executing": true
    }
   },
   "outputs": [],
   "source": [
    "# YOUR CODE HERE\n",
    "def vec_b(x):\n",
    "    col_sum = x.sum(axis=0)\n",
    "    col_mean = col_sum / x.shape[0]\n",
    "    min_ix = np.argmin(col_mean)\n",
    "    return min_ix"
   ]
  },
  {
   "cell_type": "code",
   "execution_count": 29,
   "metadata": {
    "ExecuteTime": {
     "end_time": "2022-10-04T15:33:48.224820Z",
     "start_time": "2022-10-04T15:33:48.195819Z"
    },
    "deletable": false,
    "editable": false,
    "nbgrader": {
     "cell_type": "code",
     "checksum": "df585a216b2a998e4e5c295d4285794a",
     "grade": true,
     "grade_id": "cell-2b32f90f6a752734",
     "locked": true,
     "points": 4,
     "schema_version": 3,
     "solution": false,
     "task": false
    },
    "pycharm": {
     "is_executing": true
    }
   },
   "outputs": [
    {
     "data": {
      "text/html": [
       "\n",
       "        <div class=\"alert alert-box alert-success\">\n",
       "        <h1> <!--{id:\"CORRECTMARK\", marks:\"4\"}--> \n",
       "         ✓ [4 marks] \n",
       "         </h1> </div>"
      ],
      "text/plain": [
       "<IPython.core.display.HTML object>"
      ]
     },
     "metadata": {},
     "output_type": "display_data"
    }
   ],
   "source": [
    "with tick.marks(4):\n",
    "    np.random.seed(2022)\n",
    "    assert check_is_vectorised(b, vec_b, np.random.uniform(0, 1, (3,3)))\n",
    "    assert check_is_vectorised(b, vec_b, np.random.uniform(0, 1, (4,5)))\n",
    "    assert check_is_vectorised(b, vec_b, np.random.uniform(-10, 10, (11, 19)))    \n",
    "    "
   ]
  },
  {
   "cell_type": "code",
   "execution_count": 30,
   "metadata": {
    "ExecuteTime": {
     "end_time": "2022-10-04T15:33:48.255817Z",
     "start_time": "2022-10-04T15:33:48.228834Z"
    },
    "pycharm": {
     "is_executing": true
    }
   },
   "outputs": [],
   "source": [
    "# hint: think promotion...\n",
    "def c(x, y, z):\n",
    "    q = np.zeros((len(x), len(y)))\n",
    "    for i in range(len(x)):\n",
    "        for j in range(len(y)):            \n",
    "                if x[i]-y[j]<1:\n",
    "                    q[i,j] = z[i,j]\n",
    "                else:\n",
    "                    q[i,j] = x[i] * y[j] - z[i,j]\n",
    "                    \n",
    "    \n",
    "    return q\n"
   ]
  },
  {
   "cell_type": "code",
   "execution_count": 31,
   "metadata": {
    "pycharm": {
     "is_executing": true
    }
   },
   "outputs": [],
   "source": [
    "def vec_c(x, y, z):\n",
    "    x1 = np.tile(x, (1,1))\n",
    "    y1 = np.tile(y, (1,1))\n",
    "    return np.where(x1-y1<1, z, x1*y1-z)    "
   ]
  },
  {
   "cell_type": "code",
   "execution_count": 32,
   "metadata": {
    "ExecuteTime": {
     "end_time": "2022-10-04T15:33:48.271819Z",
     "start_time": "2022-10-04T15:33:48.258898Z"
    },
    "deletable": false,
    "nbgrader": {
     "cell_type": "code",
     "checksum": "80f101d255f0edfffe8863b2f3f7e125",
     "grade": false,
     "grade_id": "cell-2dfb38aebc1a994d",
     "locked": false,
     "schema_version": 3,
     "solution": true,
     "task": false
    },
    "pycharm": {
     "is_executing": true
    }
   },
   "outputs": [],
   "source": [
    "# YOUR CODE HERE\n",
    "    "
   ]
  },
  {
   "cell_type": "code",
   "execution_count": 33,
   "metadata": {
    "ExecuteTime": {
     "end_time": "2022-10-04T15:33:48.286841Z",
     "start_time": "2022-10-04T15:33:48.274822Z"
    },
    "deletable": false,
    "editable": false,
    "nbgrader": {
     "cell_type": "code",
     "checksum": "e9fad96dd116d534a39b4ff8039b8a73",
     "grade": true,
     "grade_id": "cell-4a417d581e298499",
     "locked": true,
     "points": 3,
     "schema_version": 3,
     "solution": false,
     "task": false
    },
    "pycharm": {
     "is_executing": true
    }
   },
   "outputs": [
    {
     "data": {
      "text/html": [
       "\n",
       "        <div class=\"alert alert-box alert-success\">\n",
       "        <h1> <!--{id:\"CORRECTMARK\", marks:\"4\"}--> \n",
       "         ✓ [4 marks] \n",
       "         </h1> </div>"
      ],
      "text/plain": [
       "<IPython.core.display.HTML object>"
      ]
     },
     "metadata": {},
     "output_type": "display_data"
    }
   ],
   "source": [
    "with tick.marks(4):    \n",
    "    np.random.seed(2022)\n",
    "    x = np.random.uniform(0, 1, 7)\n",
    "    y = np.random.uniform(0, 1, 7)\n",
    "    z = np.random.uniform(0, 1, (7,7))\n",
    "    assert check_is_vectorised(c, vec_c, x, y, z)\n",
    "    \n",
    "    "
   ]
  },
  {
   "cell_type": "code",
   "execution_count": 34,
   "metadata": {
    "ExecuteTime": {
     "end_time": "2022-10-04T15:33:48.318793Z",
     "start_time": "2022-10-04T15:33:48.295863Z"
    },
    "pycharm": {
     "is_executing": true
    }
   },
   "outputs": [],
   "source": [
    "def d(x,y):\n",
    "    z = np.zeros((len(x), len(y)))\n",
    "    \n",
    "    for i in range(len(x)):\n",
    "        for j in range(len(y)):\n",
    "            z[i,j] = x[i] * y[j]\n",
    "            \n",
    "    for i in range(len(x)):\n",
    "        for j in range(len(y)):\n",
    "            z[i,j] -= x[len(x)-i-1] * y[len(y)-j-1]            \n",
    "            \n",
    "    return z\n",
    "                 "
   ]
  },
  {
   "cell_type": "code",
   "execution_count": 35,
   "metadata": {
    "ExecuteTime": {
     "end_time": "2022-10-04T15:33:48.333758Z",
     "start_time": "2022-10-04T15:33:48.321757Z"
    },
    "deletable": false,
    "nbgrader": {
     "cell_type": "code",
     "checksum": "2946c414057ca8a51366a60669d7ca11",
     "grade": false,
     "grade_id": "cell-21bb80b2c2d3db0e",
     "locked": false,
     "schema_version": 3,
     "solution": true,
     "task": false
    },
    "pycharm": {
     "is_executing": true
    }
   },
   "outputs": [
    {
     "name": "stdout",
     "output_type": "stream",
     "text": [
      "[[-15 -10  -5   0]\n",
      " [-10  -5   0   5]\n",
      " [ -5   0   5  10]\n",
      " [  0   5  10  15]]\n"
     ]
    }
   ],
   "source": [
    "# YOUR CODE HERE\n",
    "def vec_d(x, y):\n",
    "    z = np.outer(x, y)\n",
    "    return z - np.outer(x[::-1], y[::-1])\n",
    "\n",
    "x = [1, 2, 3, 4]\n",
    "y = [1,2,3,4]\n",
    "print(vec_d(x, y))"
   ]
  },
  {
   "cell_type": "code",
   "execution_count": 36,
   "metadata": {
    "ExecuteTime": {
     "end_time": "2022-10-04T15:33:48.365217Z",
     "start_time": "2022-10-04T15:33:48.337759Z"
    },
    "deletable": false,
    "editable": false,
    "nbgrader": {
     "cell_type": "code",
     "checksum": "f93f507e452407a95f4015e52ad0fae5",
     "grade": true,
     "grade_id": "cell-ecb599e848445b42",
     "locked": true,
     "points": 4,
     "schema_version": 3,
     "solution": false,
     "task": false
    },
    "pycharm": {
     "is_executing": true
    }
   },
   "outputs": [
    {
     "data": {
      "text/html": [
       "\n",
       "        <div class=\"alert alert-box alert-success\">\n",
       "        <h1> <!--{id:\"CORRECTMARK\", marks:\"4\"}--> \n",
       "         ✓ [4 marks] \n",
       "         </h1> </div>"
      ],
      "text/plain": [
       "<IPython.core.display.HTML object>"
      ]
     },
     "metadata": {},
     "output_type": "display_data"
    }
   ],
   "source": [
    "with tick.marks(4):\n",
    "    assert check_is_vectorised(d, vec_d, np.arange(10), np.arange(10))\n",
    "    assert check_is_vectorised(d, vec_d, np.arange(3), np.arange(10))\n",
    "    assert check_is_vectorised(d, vec_d, np.arange(10)-2, np.arange(12)+1)\n",
    "    \n",
    "    "
   ]
  },
  {
   "cell_type": "markdown",
   "metadata": {
    "deletable": false,
    "editable": false,
    "nbgrader": {
     "cell_type": "markdown",
     "checksum": "c28e857e4330b8461390815a45e81935",
     "grade": false,
     "grade_id": "cell-0e8cf17bfe87e8fe",
     "locked": true,
     "schema_version": 3,
     "solution": false
    }
   },
   "source": [
    "# 4. Working with tensors \n",
    "The file `data/sprite_sheet_2023.png` contains a number of \"sprites\" (small images) for use in a game. \n",
    "\n",
    "Each sprite is a 48x48 colour image.\n",
    "\n",
    "These images are from the [DawnLike tile set by DragonDePlatino](https://opengameart.org/content/dawnlike-16x16-universal-rogue-like-tileset-v181) [CC-BY-4.0]\n",
    "\n",
    "We can look at the whole spritesheet -- it's just a big image."
   ]
  },
  {
   "cell_type": "code",
   "execution_count": 37,
   "metadata": {
    "ExecuteTime": {
     "end_time": "2022-10-04T15:33:48.849076Z",
     "start_time": "2022-10-04T15:33:48.370005Z"
    },
    "pycharm": {
     "is_executing": true
    },
    "scrolled": false
   },
   "outputs": [
    {
     "data": {
      "image/png": "[encoded data removed]",
      "text/plain": [
       "<IPython.core.display.Image object>"
      ]
     },
     "metadata": {
      "image/png": {
       "width": "50%"
      }
     },
     "output_type": "display_data"
    },
    {
     "name": "stdout",
     "output_type": "stream",
     "text": [
      "(1344, 1152, 4)\n"
     ]
    }
   ],
   "source": [
    "sheet = ia.load_image_colour(\"data/sprite_sheet_2023.png\")\n",
    "ia.show_image(sheet, width=\"50%\")\n",
    "print(sheet.shape)"
   ]
  },
  {
   "cell_type": "markdown",
   "metadata": {
    "deletable": false,
    "editable": false,
    "nbgrader": {
     "cell_type": "markdown",
     "checksum": "6b759fa15500fce7a10dc73406cd6c91",
     "grade": false,
     "grade_id": "cell-0e8cf17bfe87e8ff",
     "locked": true,
     "schema_version": 3,
     "solution": false
    }
   },
   "source": [
    "The spritesheet is organised in a very particular way. It is divided into sixteen groups. The layout of these groups is shown below. There are exactly equal numbers of sprites in each group. Each sprite is a 48x48 block of pixels, with four colour channels (R,G,B,A).\n",
    "\n",
    "<img src=\"imgs/sheet_map_1.png\" width=\"70%\">\n",
    "\n",
    "Each sprite in a group has two **animation frames**; these are stored side-by-side (left to right) in the sprite sheet. For example, we could show the animation for the first sprite like this:"
   ]
  },
  {
   "cell_type": "code",
   "execution_count": 38,
   "metadata": {
    "ExecuteTime": {
     "end_time": "2022-10-04T15:33:48.896068Z",
     "start_time": "2022-10-04T15:33:48.855554Z"
    },
    "pycharm": {
     "is_executing": true
    }
   },
   "outputs": [
    {
     "data": {
      "image/png": "[encoded data removed]",
      "text/plain": [
       "<IPython.core.display.Image object>"
      ]
     },
     "metadata": {
      "image/png": {
       "width": "10%"
      }
     },
     "output_type": "display_data"
    },
    {
     "data": {
      "image/png": "[encoded data removed]",
      "text/plain": [
       "<IPython.core.display.Image object>"
      ]
     },
     "metadata": {
      "image/png": {
       "width": "5%"
      }
     },
     "output_type": "display_data"
    }
   ],
   "source": [
    "ia.show_image(sheet[:48, :96], width=\"10%\") # show first two sprites using slicing\n",
    "# these are two animation frames; we can stack them \n",
    "# to show them as a gif\n",
    "frame_0 = sheet[:48, :48] # top-left sprite\n",
    "frame_1 = sheet[:48, 48:96] # next sprite to right\n",
    "ia.show_gif(np.stack([frame_0, frame_1]), width=\"5%\") # angry crab"
   ]
  },
  {
   "cell_type": "markdown",
   "metadata": {
    "deletable": false,
    "editable": false,
    "nbgrader": {
     "cell_type": "markdown",
     "checksum": "a47e09d34be40f70eef3fdfafdf2ff4a",
     "grade": false,
     "grade_id": "cell-b8d67310b0668f38",
     "locked": true,
     "schema_version": 3,
     "solution": false
    }
   },
   "source": [
    "# Tasks\n",
    "## A: Rearrange\n",
    "Rearrange the sprite sheet image into a tensor called `group_sheet` that is ordered like this:\n",
    "\n",
    "        (frames, colors, group_row, group_col, group_i, group_j, rows, cols)\n",
    "        \n",
    "where `group_row` and `group_col` represent the position of the sprite group in the range (0-4) (e.g. [0,0] would be `aquatic`, [0,2] would be `armor`, [1,1] would be `undead`), and `group_i` and `group_j` represent the index of the sprite within that group (e.g. [0,0] would reference the top left sprite inside the specified group). \n",
    "\n"
   ]
  },
  {
   "cell_type": "code",
   "execution_count": 39,
   "metadata": {
    "ExecuteTime": {
     "end_time": "2022-10-04T15:33:48.912064Z",
     "start_time": "2022-10-04T15:33:48.901066Z"
    },
    "deletable": false,
    "nbgrader": {
     "cell_type": "code",
     "checksum": "9094e98e207c37606ecf1d7305e41f08",
     "grade": false,
     "grade_id": "cell-66e3a2fcbe9e7e36",
     "locked": false,
     "schema_version": 3,
     "solution": true
    },
    "pycharm": {
     "is_executing": true
    }
   },
   "outputs": [],
   "source": [
    "# YOUR CODE HERE\n",
    "frames = 2\n",
    "colors = 4\n",
    "\n",
    "group_row = 4\n",
    "group_col = 4\n",
    "\n",
    "group_i = 3\n",
    "group_j = 7\n",
    "\n",
    "rows = 48\n",
    "cols = 48\n",
    "\n",
    "# a - group_row\n",
    "# b - group_j\n",
    "# c - rows\n",
    "# d - group_col\n",
    "# e - group_i\n",
    "# f - frames\n",
    "# g - cols\n",
    "# h - colors\n",
    "group_reshaped = sheet.reshape(group_row, group_j, rows, group_col, group_i, frames, cols, colors)\n",
    "# print(group_reshaped)\n",
    "group_sheet = np.einsum('abcdefgh -> fhadbecg', group_reshaped)\n",
    "\n",
    "# print(group_reshaped)"
   ]
  },
  {
   "cell_type": "markdown",
   "metadata": {},
   "source": []
  },
  {
   "cell_type": "code",
   "execution_count": 40,
   "metadata": {
    "ExecuteTime": {
     "end_time": "2022-10-04T15:36:00.735969Z",
     "start_time": "2022-10-04T15:36:00.720909Z"
    },
    "pycharm": {
     "is_executing": true
    }
   },
   "outputs": [
    {
     "data": {
      "image/png": "[encoded data removed]",
      "text/plain": [
       "<IPython.core.display.Image object>"
      ]
     },
     "metadata": {
      "image/png": {
       "width": "10%"
      }
     },
     "output_type": "display_data"
    }
   ],
   "source": [
    "# if your code worked, you should see a monochrome \"blob\" below\n",
    "ia.show_image(group_sheet[0,0,1,0,3,1], width=\"10%\")"
   ]
  },
  {
   "cell_type": "code",
   "execution_count": 41,
   "metadata": {
    "ExecuteTime": {
     "end_time": "2022-10-04T15:34:47.849166Z",
     "start_time": "2022-10-04T15:34:47.835190Z"
    },
    "deletable": false,
    "editable": false,
    "nbgrader": {
     "cell_type": "code",
     "checksum": "be1312e05f707e7ed2d53d0dc8550b91",
     "grade": true,
     "grade_id": "cell-e21fcd41d335d470",
     "locked": true,
     "points": 6,
     "schema_version": 3,
     "solution": false
    },
    "pycharm": {
     "is_executing": true
    }
   },
   "outputs": [
    {
     "data": {
      "text/html": [
       "\n",
       "        <div class=\"alert alert-box alert-success\">\n",
       "        <h1> <!--{id:\"CORRECTMARK\", marks:\"6\"}--> \n",
       "         ✓ [6 marks] \n",
       "         </h1> </div>"
      ],
      "text/plain": [
       "<IPython.core.display.HTML object>"
      ]
     },
     "metadata": {},
     "output_type": "display_data"
    }
   ],
   "source": [
    "# test shape is correct\n",
    "with tick.marks(6):        \n",
    "    \n",
    "    assert(check_hash(group_sheet.shape, ((8,), 899.0984292547843)))"
   ]
  },
  {
   "cell_type": "code",
   "execution_count": 42,
   "metadata": {
    "ExecuteTime": {
     "end_time": "2022-10-04T15:34:57.346802Z",
     "start_time": "2022-10-04T15:34:57.003799Z"
    },
    "deletable": false,
    "editable": false,
    "nbgrader": {
     "cell_type": "code",
     "checksum": "c1f892a416dbd08e775d4717d162c841",
     "grade": true,
     "grade_id": "cell-b26945a0ff9f8ded",
     "locked": true,
     "points": 6,
     "schema_version": 3,
     "solution": false
    },
    "pycharm": {
     "is_executing": true
    }
   },
   "outputs": [
    {
     "name": "stdout",
     "output_type": "stream",
     "text": [
      "((2, 4, 4, 4, 7, 3, 48, 48), 33021508739541.367)\n"
     ]
    },
    {
     "data": {
      "text/html": [
       "\n",
       "        <div class=\"alert alert-box alert-success\">\n",
       "        <h1> <!--{id:\"CORRECTMARK\", marks:\"6\"}--> \n",
       "         ✓ [6 marks] \n",
       "         </h1> </div>"
      ],
      "text/plain": [
       "<IPython.core.display.HTML object>"
      ]
     },
     "metadata": {},
     "output_type": "display_data"
    }
   ],
   "source": [
    "# test content is ok\n",
    "with tick.marks(6):                \n",
    "    assert(np.allclose(array_hash(group_sheet)[1], 4651699986199.503, atol=1e-2, rtol=1e-2))    \n",
    "    assert(np.allclose(strict_array_hash(group_sheet)[1], 33021508739541.367, atol=1e-2, rtol=1e-2))"
   ]
  },
  {
   "attachments": {
    "image-2.png": {
     "image/png": "[encoded data removed]"
    }
   },
   "cell_type": "markdown",
   "metadata": {
    "nbgrader": {
     "grade": false,
     "grade_id": "cell-ccfee0ea5fa2f9e6",
     "locked": false,
     "schema_version": 3,
     "solution": false,
     "task": false
    }
   },
   "source": [
    "# B. Sample image\n",
    "Create an array `sample_image` which includes the *second* of the two animation frames in the uninterlaced `group_sheet` for the third sprite from each group (i.e. the first row, third column of each group), arranged as a single long strip, running left to right. It should be a (48,768,4) array. \n",
    "Don't use a loop! Use `einsum` and `reshape`.\n",
    "\n",
    "It should look like this:\n",
    "![image-2.png](attachment:image-2.png)"
   ]
  },
  {
   "cell_type": "code",
   "execution_count": 43,
   "metadata": {
    "ExecuteTime": {
     "end_time": "2022-10-04T15:33:50.962137Z",
     "start_time": "2022-10-04T15:33:50.949798Z"
    },
    "deletable": false,
    "nbgrader": {
     "cell_type": "code",
     "checksum": "c58243d75b7ad3792cd5a2bd1214da1a",
     "grade": false,
     "grade_id": "cell-9f67259c5b22d8fb",
     "locked": false,
     "schema_version": 3,
     "solution": true,
     "task": false
    },
    "pycharm": {
     "is_executing": true
    }
   },
   "outputs": [
    {
     "name": "stdout",
     "output_type": "stream",
     "text": [
      "(4, 4, 4, 48, 48)\n",
      "(4, 4, 4, 48, 48)\n",
      "(4, 768, 48)\n",
      "(48, 768, 4)\n"
     ]
    }
   ],
   "source": [
    "# YOUR CODE HERE\n",
    "position_arr = group_sheet[1, :, :, :, 0, 2, :, :]\n",
    "print(position_arr.shape)\n",
    "\n",
    "pix_reorder = np.einsum('abcde -> abced', position_arr)\n",
    "print(pix_reorder.shape)\n",
    "\n",
    "col_reorder = pix_reorder.reshape(4, 768, 48)\n",
    "print(col_reorder.shape)\n",
    "\n",
    "sample_image = np.einsum('abc -> cba', col_reorder)     #((48,768,4))\n",
    "print(sample_image.shape)\n"
   ]
  },
  {
   "cell_type": "code",
   "execution_count": 44,
   "metadata": {
    "ExecuteTime": {
     "end_time": "2022-10-04T15:33:50.978205Z",
     "start_time": "2022-10-04T15:33:50.964139Z"
    },
    "pycharm": {
     "is_executing": true
    }
   },
   "outputs": [
    {
     "data": {
      "image/png": "[encoded data removed]",
      "text/plain": [
       "<IPython.core.display.Image object>"
      ]
     },
     "metadata": {
      "image/png": {
       "width": "100%"
      }
     },
     "output_type": "display_data"
    }
   ],
   "source": [
    "ia.show_image(sample_image)"
   ]
  },
  {
   "cell_type": "code",
   "execution_count": 45,
   "metadata": {
    "ExecuteTime": {
     "end_time": "2022-10-04T15:33:51.009026Z",
     "start_time": "2022-10-04T15:33:50.981144Z"
    },
    "deletable": false,
    "editable": false,
    "nbgrader": {
     "cell_type": "code",
     "checksum": "aa1a51985fee18b60c06da432b7eb02f",
     "grade": true,
     "grade_id": "cell-1634a75748ccfcb1",
     "locked": true,
     "points": 4,
     "schema_version": 3,
     "solution": false,
     "task": false
    },
    "pycharm": {
     "is_executing": true
    }
   },
   "outputs": [
    {
     "name": "stdout",
     "output_type": "stream",
     "text": [
      "((48, 768, 4), 372498642324.58246)\n"
     ]
    },
    {
     "data": {
      "text/html": [
       "\n",
       "        <div class=\"alert alert-box alert-success\">\n",
       "        <h1> <!--{id:\"CORRECTMARK\", marks:\"4\"}--> \n",
       "         ✓ [4 marks] \n",
       "         </h1> </div>"
      ],
      "text/plain": [
       "<IPython.core.display.HTML object>"
      ]
     },
     "metadata": {},
     "output_type": "display_data"
    }
   ],
   "source": [
    "with tick.marks(4):\n",
    "    assert(check_hash(sample_image, ((48, 768, 4), 2854937692.299833 )))\n",
    "    assert(np.allclose(strict_array_hash(sample_image)[1], 372498642324.58246, atol=1e-2, rtol=1e-2))"
   ]
  },
  {
   "cell_type": "markdown",
   "metadata": {
    "deletable": false,
    "editable": false,
    "nbgrader": {
     "cell_type": "markdown",
     "checksum": "77605b89334a01aeee3a379b8789e42b",
     "grade": false,
     "grade_id": "cell-a8ab0d43d478627f",
     "locked": true,
     "schema_version": 3,
     "solution": false,
     "task": false
    }
   },
   "source": [
    "## C Areas\n",
    "### 1. Finding areas\n",
    "The \"area\" of a sprite is the count of non-zero alpha channel pixels (counted across all animation frames). Sprites with larger area take more compute to draw onto screen. Find the money sprites in `group_sheet` with smallest and largest area, and store them in `largest_money` and `smallest_money`. These should be arranged into `(2,48,48,4)` arrays `(frames, rows, cols, rgba)`"
   ]
  },
  {
   "cell_type": "code",
   "execution_count": 46,
   "metadata": {
    "ExecuteTime": {
     "end_time": "2022-10-04T15:33:50.026048Z",
     "start_time": "2022-10-04T15:33:50.013944Z"
    },
    "deletable": false,
    "nbgrader": {
     "cell_type": "code",
     "checksum": "4f86d0258c87733cd3e08346f127026e",
     "grade": false,
     "grade_id": "cell-07d287b4b1418f30",
     "locked": false,
     "schema_version": 3,
     "solution": true,
     "task": false
    },
    "pycharm": {
     "is_executing": true
    }
   },
   "outputs": [],
   "source": [
    "# YOUR CODE HERE\n",
    "group_money = group_sheet[:, 3, 1, 2, :, :, :, :]\n",
    "\n",
    "areas = np.sum(group_money > 0, axis = (0, -1, -2))\n",
    "\n",
    "min_i = np.unravel_index(np.argmin(areas), areas.shape)\n",
    "max_i = np.unravel_index(np.argmax(areas), areas.shape)\n",
    "\n",
    "smallest_money = group_sheet[:, :, 1, 2, min_i[0], min_i[1]]\n",
    "smallest_money = np.einsum('abcd -> acdb', smallest_money)\n",
    "\n",
    "largest_money = group_sheet[:, :, 1, 2, max_i[0], max_i[1]]\n",
    "largest_money = np.einsum('abcd -> acdb', largest_money)\n",
    "\n"
   ]
  },
  {
   "cell_type": "code",
   "execution_count": 47,
   "metadata": {
    "pycharm": {
     "is_executing": true
    }
   },
   "outputs": [
    {
     "data": {
      "image/png": "[encoded data removed]",
      "text/plain": [
       "<IPython.core.display.Image object>"
      ]
     },
     "metadata": {
      "image/png": {
       "width": "5%"
      }
     },
     "output_type": "display_data"
    }
   ],
   "source": [
    "ia.show_gif(largest_money, width=\"5%\") # big stacks o'cash"
   ]
  },
  {
   "cell_type": "code",
   "execution_count": 48,
   "metadata": {
    "pycharm": {
     "is_executing": true
    }
   },
   "outputs": [
    {
     "data": {
      "image/png": "[encoded data removed]",
      "text/plain": [
       "<IPython.core.display.Image object>"
      ]
     },
     "metadata": {
      "image/png": {
       "width": "5%"
      }
     },
     "output_type": "display_data"
    }
   ],
   "source": [
    "ia.show_gif(smallest_money, width=\"5%\") # one sad coin"
   ]
  },
  {
   "cell_type": "code",
   "execution_count": 49,
   "metadata": {
    "ExecuteTime": {
     "end_time": "2022-10-04T15:33:50.040942Z",
     "start_time": "2022-10-04T15:33:50.027942Z"
    },
    "deletable": false,
    "editable": false,
    "nbgrader": {
     "cell_type": "code",
     "checksum": "2ad11756af609aa8071f8d7298eb517a",
     "grade": true,
     "grade_id": "cell-095ec4dded2748ec",
     "locked": true,
     "points": 4,
     "schema_version": 3,
     "solution": false,
     "task": false
    },
    "pycharm": {
     "is_executing": true
    }
   },
   "outputs": [
    {
     "name": "stdout",
     "output_type": "stream",
     "text": [
      "((2, 48, 48, 4), 449685676.3868211)\n"
     ]
    },
    {
     "data": {
      "text/html": [
       "\n",
       "        <div class=\"alert alert-box alert-success\">\n",
       "        <h1> <!--{id:\"CORRECTMARK\", marks:\"4\"}--> \n",
       "         ✓ [4 marks] \n",
       "         </h1> </div>"
      ],
      "text/plain": [
       "<IPython.core.display.HTML object>"
      ]
     },
     "metadata": {},
     "output_type": "display_data"
    }
   ],
   "source": [
    "with tick.marks(4):\n",
    "    assert(check_hash(largest_money, ((2, 48, 48, 4), 36513717.11430106 )))\n",
    "    assert(np.allclose(strict_array_hash(largest_money)[1], 449685676.3868211, atol=1e-2, rtol=1e-2))"
   ]
  },
  {
   "cell_type": "code",
   "execution_count": 50,
   "metadata": {
    "deletable": false,
    "editable": false,
    "nbgrader": {
     "cell_type": "code",
     "checksum": "2c6abea23fc78187e347db55d133207c",
     "grade": true,
     "grade_id": "cell-b403ace2d8a2e5b9",
     "locked": true,
     "points": 4,
     "schema_version": 3,
     "solution": false,
     "task": false
    },
    "pycharm": {
     "is_executing": true
    }
   },
   "outputs": [
    {
     "name": "stdout",
     "output_type": "stream",
     "text": [
      "((2, 48, 48, 4), 60074391.034250475)\n"
     ]
    },
    {
     "data": {
      "text/html": [
       "\n",
       "        <div class=\"alert alert-box alert-success\">\n",
       "        <h1> <!--{id:\"CORRECTMARK\", marks:\"4\"}--> \n",
       "         ✓ [4 marks] \n",
       "         </h1> </div>"
      ],
      "text/plain": [
       "<IPython.core.display.HTML object>"
      ]
     },
     "metadata": {},
     "output_type": "display_data"
    }
   ],
   "source": [
    "with tick.marks(4):\n",
    "    assert(check_hash(smallest_money, ((2, 48, 48, 4), 5011646.094650576)))\n",
    "    assert(np.allclose(strict_array_hash(smallest_money)[1], 60074391.034250475, atol=1e-2, rtol=1e-2))"
   ]
  },
  {
   "cell_type": "markdown",
   "metadata": {},
   "source": [
    "### 2. Area map\n",
    "The developers are keen to compute a \"map\" of the area of each sprite to visualise how large each one is. Generate an array of size (28, 12) that \n",
    "is the area of each sprite (again, remembering that the area sums over all animation frames for a sprite). The layout should be ordered *as in the original sprite map `sheet`*. The result should look like this:\n",
    "<img src=\"imgs/area_map.png\">\n"
   ]
  },
  {
   "cell_type": "code",
   "execution_count": 51,
   "metadata": {
    "deletable": false,
    "nbgrader": {
     "cell_type": "code",
     "checksum": "478e37f91cdda49ea236f3b42529629e",
     "grade": false,
     "grade_id": "cell-fdcc27754d163444",
     "locked": false,
     "schema_version": 3,
     "solution": true,
     "task": false
    },
    "pycharm": {
     "is_executing": true
    }
   },
   "outputs": [],
   "source": [
    "# YOUR CODE HERE\n",
    "sprites_color = group_sheet[:, 3, :, :, :, :, :, :]\n",
    "areas = np.sum(sprites_color > 0, axis=(0, -1, -2))\n",
    "area_map = np.einsum('abcd -> acbd', areas).reshape(28, 12)"
   ]
  },
  {
   "cell_type": "code",
   "execution_count": 52,
   "metadata": {
    "pycharm": {
     "is_executing": true
    }
   },
   "outputs": [
    {
     "data": {
      "image/png": "[encoded data removed]",
      "text/plain": [
       "<Figure size 1120x560 with 1 Axes>"
      ]
     },
     "metadata": {},
     "output_type": "display_data"
    }
   ],
   "source": [
    "ia.show_image_mpl(area_map/4608) \n",
    "# a sprite covers 96x48 pixels (two 48x48 frames)\n",
    "# so 4608 = 96*48 is the maximum possible coverage"
   ]
  },
  {
   "cell_type": "code",
   "execution_count": 53,
   "metadata": {
    "deletable": false,
    "editable": false,
    "nbgrader": {
     "cell_type": "code",
     "checksum": "fb82026696af8377bd643724c1e154ab",
     "grade": true,
     "grade_id": "cell-0b5815febcca9160",
     "locked": true,
     "points": 6,
     "schema_version": 3,
     "solution": false,
     "task": false
    },
    "pycharm": {
     "is_executing": true
    }
   },
   "outputs": [
    {
     "name": "stdout",
     "output_type": "stream",
     "text": [
      "((28, 12), 1233668181.0344813)\n"
     ]
    },
    {
     "data": {
      "text/html": [
       "\n",
       "        <div class=\"alert alert-box alert-success\">\n",
       "        <h1> <!--{id:\"CORRECTMARK\", marks:\"6\"}--> \n",
       "         ✓ [6 marks] \n",
       "         </h1> </div>"
      ],
      "text/plain": [
       "<IPython.core.display.HTML object>"
      ]
     },
     "metadata": {},
     "output_type": "display_data"
    }
   ],
   "source": [
    "with tick.marks(6):\n",
    "    assert(check_hash(area_map, ((28, 12), 109298960.7673283 )))\n",
    "    assert(np.allclose(strict_array_hash(area_map)[1], 1233668181.0344813, atol=1e-2, rtol=1e-2))\n",
    "    "
   ]
  },
  {
   "cell_type": "code",
   "execution_count": 54,
   "metadata": {
    "pycharm": {
     "is_executing": true
    }
   },
   "outputs": [
    {
     "data": {
      "image/png": "[encoded data removed]",
      "text/plain": [
       "<IPython.core.display.Image object>"
      ]
     },
     "metadata": {
      "image/png": {
       "width": "100%"
      }
     },
     "output_type": "display_data"
    }
   ],
   "source": [
    "# show the colouring overlaid; bright colours are high area sprites, dark are low area\n",
    "ia.show_image((sheet[:,:,:3].T + np.repeat(np.repeat(area_map/4608, 48,axis=0), 96, axis=1).T).T)"
   ]
  },
  {
   "cell_type": "markdown",
   "metadata": {},
   "source": [
    "## D Pixel masks\n",
    "\n",
    "From `group_sheet`, you are asked to find *row masks* for each sprite. \n",
    "* A row  mask is an image where each pixel is either 1 or 0; the pixel will be 0 if there is an all-zero row on *both* of the original sprite frames on the alpha channel (colour channel 3). \n",
    "* This implies nothing needs to be drawn at all on this row, and it can be skipped when rendering.\n",
    "* A row mask for a single sprite would be a (48, 48) image (no colour channels; it's just 0s and 1s). Every column is equal.\n",
    "* The mask will be 1 everywhere,\n",
    "except on pixels `[r,c]` where there are no \"on\" pixels in the original sprite on row `r`.\n",
    "\n",
    "The graphics team want this as a (336, 48, 48) array called `mask_sprites`. "
   ]
  },
  {
   "cell_type": "code",
   "execution_count": 55,
   "metadata": {
    "ExecuteTime": {
     "end_time": "2022-10-04T15:43:52.606095Z",
     "start_time": "2022-10-04T15:43:52.444704Z"
    },
    "deletable": false,
    "nbgrader": {
     "cell_type": "code",
     "checksum": "7896c3cd6c317138e9e27a00e2aa5e5e",
     "grade": false,
     "grade_id": "cell-6626d8d0536c2976",
     "locked": false,
     "schema_version": 3,
     "solution": true,
     "task": false
    },
    "pycharm": {
     "is_executing": true
    }
   },
   "outputs": [
    {
     "name": "stdout",
     "output_type": "stream",
     "text": [
      "(336, 48, 48)\n"
     ]
    }
   ],
   "source": [
    "# YOUR CODE HERE\n",
    "sprites_color = group_sheet[:, 3, :, :, :, :, :, :]\n",
    "row_masks = np.any(sprites_color, axis=(-1, 0))\n",
    "mask_sprites = np.repeat(row_masks, 48, axis = -1)\n",
    "mask_sprites = mask_sprites.reshape(-1, 48, 48)\n",
    "print(mask_sprites.shape)"
   ]
  },
  {
   "cell_type": "code",
   "execution_count": 56,
   "metadata": {
    "ExecuteTime": {
     "end_time": "2022-10-04T15:42:46.103668Z",
     "start_time": "2022-10-04T15:42:45.432832Z"
    },
    "pycharm": {
     "is_executing": true
    }
   },
   "outputs": [
    {
     "data": {
      "image/png": "[encoded data removed]",
      "text/plain": [
       "<IPython.core.display.Image object>"
      ]
     },
     "metadata": {
      "image/png": {
       "width": "10%"
      }
     },
     "output_type": "display_data"
    }
   ],
   "source": [
    "# show all the masks as an animation\n",
    "ia.show_gif(mask_sprites, width=\"10%\")"
   ]
  },
  {
   "cell_type": "code",
   "execution_count": 57,
   "metadata": {
    "ExecuteTime": {
     "end_time": "2022-10-04T15:42:55.185476Z",
     "start_time": "2022-10-04T15:42:55.084797Z"
    },
    "deletable": false,
    "editable": false,
    "nbgrader": {
     "cell_type": "code",
     "checksum": "06feeef29920609b52778bdd1cc4811d",
     "grade": true,
     "grade_id": "cell-30dad44d0738a998",
     "locked": true,
     "points": 4,
     "schema_version": 3,
     "solution": false,
     "task": false
    },
    "pycharm": {
     "is_executing": true
    }
   },
   "outputs": [
    {
     "data": {
      "text/html": [
       "\n",
       "        <div class=\"alert alert-box alert-success\">\n",
       "        <h1> <!--{id:\"CORRECTMARK\", marks:\"4\"}--> \n",
       "         ✓ [4 marks] \n",
       "         </h1> </div>"
      ],
      "text/plain": [
       "<IPython.core.display.HTML object>"
      ]
     },
     "metadata": {},
     "output_type": "display_data"
    }
   ],
   "source": [
    "with tick.marks(4):\n",
    "    assert(check_hash(mask_sprites.astype(np.float64), ((336, 48, 48), 235591825467.20084)))"
   ]
  },
  {
   "cell_type": "markdown",
   "metadata": {},
   "source": [
    "## E: Rearrange and interlace\n",
    "\n",
    "The graphics team have decided they'd prefer to index sprites differently. \n",
    "\n",
    "They have come up with a different organisation, which is divided into four **categories** (monster, item, dungeon, player), and each category is divided into four groups (again giving sixteen groups total). The arrangement is shown below:\n",
    "\n",
    "<img src=\"imgs/sheet_map_2.png\">\n",
    "\n",
    "They would like to give a sprite category (0-4), a sprite group (0-4) and a sprite index (0-21) and get back the (2,48,48,4) sprite image. The category and group counts should index top-to-bottom, left-to right (so category 0=`Monster`, category 1=`Item`, category 2=`Dungeon`, category 3=`Player`, and similarly for groups).\n",
    "\n",
    "They also need to deal with an *interlaced* display, where only half of the rows are displayed on screen at any one time; the next half are shown in the next frame [this was common in the days of CRT displays]. \n",
    "\n",
    "To make this look smooth, they need to:\n",
    "- 0: display the even rows of animation frame 0\n",
    "- 1: display the even rows of animation frame 1\n",
    "- 2: display the odd rows of animation frame 0\n",
    "- 3: display the odd rows of animation frame 1\n",
    "\n",
    "The array needs to be arranged so that these four interlaced frames can be indexed directly (0-3).\n",
    "\n",
    "Create the array `flat_sheet` with indices `[category, group, index, interlaced_frames, rows, cols, channels]`. \n",
    "\n"
   ]
  },
  {
   "cell_type": "code",
   "execution_count": 58,
   "metadata": {
    "ExecuteTime": {
     "end_time": "2022-10-04T15:33:49.490753Z",
     "start_time": "2022-10-04T15:33:49.461654Z"
    },
    "deletable": false,
    "nbgrader": {
     "cell_type": "code",
     "checksum": "521cc689ed407c007542baea74b8d22a",
     "grade": false,
     "grade_id": "cell-dfd576218363e350",
     "locked": false,
     "schema_version": 3,
     "solution": true,
     "task": false
    },
    "pycharm": {
     "is_executing": true
    }
   },
   "outputs": [],
   "source": [
    "# YOUR CODE HERE\n",
    "flat_sheet = np.reshape(group_sheet, (4, 4, 21, 2, 48, 48, 4))"
   ]
  },
  {
   "cell_type": "markdown",
   "metadata": {},
   "source": [
    "If this worked, you should see a sequence of ten animated \"undead\" (category 0, group 3) sprites when you run the cell below:"
   ]
  },
  {
   "cell_type": "code",
   "execution_count": 59,
   "metadata": {
    "ExecuteTime": {
     "end_time": "2022-10-04T15:33:49.616707Z",
     "start_time": "2022-10-04T15:33:49.492654Z"
    },
    "pycharm": {
     "is_executing": true
    }
   },
   "outputs": [
    {
     "ename": "IndexError",
     "evalue": "index 2 is out of bounds for axis 0 with size 2",
     "output_type": "error",
     "traceback": [
      "\u001b[1;31m---------------------------------------------------------------------------\u001b[0m",
      "\u001b[1;31mIndexError\u001b[0m                                Traceback (most recent call last)",
      "Cell \u001b[1;32mIn[59], line 12\u001b[0m\n\u001b[0;32m      9\u001b[0m     \u001b[38;5;28;01mreturn\u001b[39;00m x\n\u001b[0;32m     11\u001b[0m \u001b[38;5;28;01mfor\u001b[39;00m i \u001b[38;5;129;01min\u001b[39;00m \u001b[38;5;28mrange\u001b[39m(\u001b[38;5;241m10\u001b[39m):\n\u001b[1;32m---> 12\u001b[0m     ia\u001b[38;5;241m.\u001b[39mshow_gif(deinterlace(undead[i]), width\u001b[38;5;241m=\u001b[39m\u001b[38;5;124m\"\u001b[39m\u001b[38;5;124m8\u001b[39m\u001b[38;5;124m%\u001b[39m\u001b[38;5;124m\"\u001b[39m)\n",
      "Cell \u001b[1;32mIn[59], line 6\u001b[0m, in \u001b[0;36mdeinterlace\u001b[1;34m(sprite)\u001b[0m\n\u001b[0;32m      4\u001b[0m x[\u001b[38;5;241m0\u001b[39m, ::\u001b[38;5;241m2\u001b[39m] \u001b[38;5;241m=\u001b[39m sprite[\u001b[38;5;241m0\u001b[39m]\n\u001b[0;32m      5\u001b[0m x[\u001b[38;5;241m1\u001b[39m, \u001b[38;5;241m1\u001b[39m::\u001b[38;5;241m2\u001b[39m] \u001b[38;5;241m=\u001b[39m sprite[\u001b[38;5;241m1\u001b[39m]\n\u001b[1;32m----> 6\u001b[0m x[\u001b[38;5;241m2\u001b[39m, ::\u001b[38;5;241m2\u001b[39m] \u001b[38;5;241m=\u001b[39m sprite[\u001b[38;5;241m2\u001b[39m]\n\u001b[0;32m      7\u001b[0m x[\u001b[38;5;241m3\u001b[39m, \u001b[38;5;241m1\u001b[39m::\u001b[38;5;241m2\u001b[39m] \u001b[38;5;241m=\u001b[39m sprite[\u001b[38;5;241m3\u001b[39m]\n\u001b[0;32m      8\u001b[0m x[:,:,:,\u001b[38;5;241m3\u001b[39m] \u001b[38;5;241m=\u001b[39m \u001b[38;5;241m1\u001b[39m\n",
      "\u001b[1;31mIndexError\u001b[0m: index 2 is out of bounds for axis 0 with size 2"
     ]
    }
   ],
   "source": [
    "undead = flat_sheet[0,3] \n",
    "def deinterlace(sprite):\n",
    "    x = np.zeros((sprite.shape[0], sprite.shape[1]*2, sprite.shape[2], sprite.shape[3]))\n",
    "    x[0, ::2] = sprite[0]\n",
    "    x[1, 1::2] = sprite[1]\n",
    "    x[2, ::2] = sprite[2]\n",
    "    x[3, 1::2] = sprite[3]\n",
    "    x[:,:,:,3] = 1\n",
    "    return x\n",
    "\n",
    "for i in range(10):\n",
    "    ia.show_gif(deinterlace(undead[i]), width=\"8%\")"
   ]
  },
  {
   "cell_type": "code",
   "execution_count": null,
   "metadata": {
    "ExecuteTime": {
     "end_time": "2022-10-04T15:33:49.632707Z",
     "start_time": "2022-10-04T15:33:49.619706Z"
    },
    "deletable": false,
    "editable": false,
    "nbgrader": {
     "cell_type": "code",
     "checksum": "750c4c8d1265d231939fffb5601319d1",
     "grade": true,
     "grade_id": "cell-59bf11ace22bbd5c",
     "locked": true,
     "points": 6,
     "schema_version": 3,
     "solution": false,
     "task": false
    },
    "pycharm": {
     "is_executing": true
    }
   },
   "outputs": [],
   "source": [
    "# test shape is correct\n",
    "with tick.marks(6):        \n",
    "    assert(check_hash(flat_sheet.shape, ((7,), 614.09888943328)))"
   ]
  },
  {
   "cell_type": "code",
   "execution_count": null,
   "metadata": {
    "ExecuteTime": {
     "end_time": "2022-10-04T15:33:50.011047Z",
     "start_time": "2022-10-04T15:33:49.635703Z"
    },
    "deletable": false,
    "editable": false,
    "nbgrader": {
     "cell_type": "code",
     "checksum": "f180683d1b8af7b1ca6fd6ecb143438a",
     "grade": true,
     "grade_id": "cell-6737967900b07622",
     "locked": true,
     "points": 3,
     "schema_version": 3,
     "solution": false,
     "task": false
    },
    "pycharm": {
     "is_executing": true
    }
   },
   "outputs": [],
   "source": [
    "# test content is unchanged\n",
    "with tick.marks(3):        \n",
    "    assert(np.allclose(array_hash(flat_sheet)[1], 4010340038338.4336, atol=1e-2, rtol=1e-2))   \n",
    "    assert(np.allclose(strict_array_hash(flat_sheet)[1], 29369769161939.5086, atol=1e-2, rtol=1e-2))   \n",
    "    "
   ]
  },
  {
   "cell_type": "markdown",
   "metadata": {},
   "source": [
    "# END OF LAB"
   ]
  },
  {
   "cell_type": "code",
   "execution_count": null,
   "metadata": {
    "pycharm": {
     "is_executing": true
    }
   },
   "outputs": [],
   "source": []
  },
  {
   "cell_type": "markdown",
   "metadata": {},
   "source": [
    "-----\n",
    "\n",
    "# Submission instructions"
   ]
  },
  {
   "cell_type": "markdown",
   "metadata": {},
   "source": [
    "## Before submission\n",
    "\n",
    "* Make sure you fill in any place that says `YOUR CODE HERE` or `\"YOUR ANSWER HERE\"`.\n",
    "* SAVE THE NOTEBOOK\n",
    "* DO NOT RENAME THE NOTEBOOK OR IT WILL NOT BE MARKED."
   ]
  },
  {
   "cell_type": "markdown",
   "metadata": {},
   "source": [
    "<div class=\"alert alert-block alert-danger\">\n",
    "    \n",
    "### Formatting the submission\n",
    "* **WARNING**: If you do not submit the correct file, you will not get any marks.\n",
    "* Submit this file **only** on Moodle. It will be named `<xxx>.ipynb`.\n",
    "\n",
    "</div>"
   ]
  },
  {
   "cell_type": "markdown",
   "metadata": {},
   "source": [
    "\n",
    "## Penalties (only for assessed labs)\n",
    "<font color=\"red\">\n",
    "    \n",
    "**Malformatted submissions**\n",
    "</font>\n",
    "These assignments are processed with an automatic tool; failure to follow instructions *precisely* will lead to you automatically losing two bands in grade regardless of whether the work is correct (not to mention a long delay in getting your work back). **If you submit a file without your work in it, it will be marked and you will get 0 marks.**\n",
    "\n",
    "<font color=\"red\">**Late submission**</font>\n",
    "Be aware that there is a two band penalty for every *day* of late submission, starting the moment of the deadline.\n",
    "\n",
    "<font color=\"red\">\n",
    "    \n",
    "**Plagiarism**\n",
    "</font> Plagiarism will be subject to the Plagiarism Policy. The penalties are severe."
   ]
  }
 ],
 "metadata": {
  "kernelspec": {
   "display_name": "Python 3 (ipykernel)",
   "language": "python",
   "name": "python3"
  },
  "language_info": {
   "codemirror_mode": {
    "name": "ipython",
    "version": 3
   },
   "file_extension": ".py",
   "mimetype": "text/x-python",
   "name": "python",
   "nbconvert_exporter": "python",
   "pygments_lexer": "ipython3",
   "version": "3.11.5"
  },
  "toc": {
   "base_numbering": 1,
   "nav_menu": {},
   "number_sections": true,
   "sideBar": true,
   "skip_h1_title": false,
   "title_cell": "Table of Contents",
   "title_sidebar": "Contents",
   "toc_cell": false,
   "toc_position": {},
   "toc_section_display": "block",
   "toc_window_display": false
  },
  "varInspector": {
   "cols": {
    "lenName": 16,
    "lenType": 16,
    "lenVar": 40
   },
   "kernels_config": {
    "python": {
     "delete_cmd_postfix": "",
     "delete_cmd_prefix": "del ",
     "library": "var_list.py",
     "varRefreshCmd": "print(var_dic_list())"
    },
    "r": {
     "delete_cmd_postfix": ") ",
     "delete_cmd_prefix": "rm(",
     "library": "var_list.r",
     "varRefreshCmd": "cat(var_dic_list()) "
    }
   },
   "types_to_exclude": [
    "module",
    "function",
    "builtin_function_or_method",
    "instance",
    "_Feature"
   ],
   "window_display": false
  }
 },
 "nbformat": 4,
 "nbformat_minor": 4
}
